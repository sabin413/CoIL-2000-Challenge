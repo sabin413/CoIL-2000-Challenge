{
 "cells": [
  {
   "cell_type": "markdown",
   "metadata": {},
   "source": [
    "# Predicting Potential Customers For an Insurance Policy - CoIL 2000 Challenge - Machine Learning"
   ]
  },
  {
   "cell_type": "markdown",
   "metadata": {},
   "source": [
    "Now we are ready for machine learning. We will start from logistic regression and then we will go to neural networks. "
   ]
  },
  {
   "cell_type": "code",
   "execution_count": 2,
   "metadata": {},
   "outputs": [],
   "source": [
    "# read the feature description txt. file and make a list of feature names\n",
    "features_list = [] \n",
    "fh = open('TicDataDescr.txt', 'r')\n",
    "for i, line in enumerate(fh):\n",
    "    if 32 < i < 51: # 204:\n",
    "        features_list.append(line.rstrip('\\n')[2:])\n",
    "    elif 51 <= i< 204:\n",
    "        features_list.append(line.rstrip('\\n')[3:])\n",
    "fh.close()\n",
    "\n",
    "while '' in features_list:\n",
    "    features_list.remove('')\n",
    "#print(features_list)\n",
    "#len(features_list)"
   ]
  },
  {
   "cell_type": "code",
   "execution_count": 3,
   "metadata": {},
   "outputs": [],
   "source": [
    "import pandas as pd\n",
    "df = pd.read_table('ticdata2000.txt', names=features_list) # assign the feature names from the list prepared before\n",
    "#df_test = pd.read_table('ticeval2000.txt', names=features_list) # test data set"
   ]
  },
  {
   "cell_type": "code",
   "execution_count": 4,
   "metadata": {},
   "outputs": [
    {
     "name": "stdout",
     "output_type": "stream",
     "text": [
      "348 5.977327378907592\n"
     ]
    }
   ],
   "source": [
    "# Find the total number of positive class in the target - baseline\n",
    "ls = list(df['CARAVAN Number of mobile home policies 0 - 1'].values)\n",
    "num_policy_users = ls.count(1)\n",
    "num_nonusers = ls.count(0)\n",
    "users_perc = num_policy_users*100/(num_policy_users+num_nonusers)\n",
    "print(num_policy_users, users_perc)"
   ]
  },
  {
   "cell_type": "markdown",
   "metadata": {},
   "source": [
    "We have a baseline for our models here, 348 out of 5822 customers, which is about 6%, own the insurence policy. This means only 6% of the total customers belong to the positive class and hence the data is unbalanced."
   ]
  },
  {
   "cell_type": "code",
   "execution_count": 7,
   "metadata": {},
   "outputs": [
    {
     "name": "stderr",
     "output_type": "stream",
     "text": [
      "C:\\Users\\sabin\\Anaconda3\\lib\\site-packages\\sklearn\\linear_model\\logistic.py:433: FutureWarning: Default solver will be changed to 'lbfgs' in 0.22. Specify a solver to silence this warning.\n",
      "  FutureWarning)\n"
     ]
    }
   ],
   "source": [
    "# Modeling - Logistic Regression\n",
    "import numpy as np\n",
    "X = df.drop('CARAVAN Number of mobile home policies 0 - 1',axis = 1) #feature\n",
    "X['MOSTYPE Customer Subtype see L0']  = np.log(1+X['MOSTYPE Customer Subtype see L0'].values) # rescale this column\n",
    "y = df['CARAVAN Number of mobile home policies 0 - 1'] #target\n",
    "#X_testset = df_test.drop('CARAVAN Number of mobile home policies 0 - 1',axis = 1)\n",
    "#X_testset['MOSTYPE Customer Subtype see L0'] = np.log(1+X_testset['MOSTYPE Customer Subtype see L0'].values)\n",
    "#y_testset = df_test['CARAVAN Number of mobile home policies 0 - 1']\n",
    "from sklearn.model_selection import train_test_split\n",
    "from sklearn.linear_model import LogisticRegression\n",
    "X_train,X_test,y_train,y_test = train_test_split(X,y,test_size=0.25,random_state=0)\n",
    "logreg = LogisticRegression() # instantiate the model\n",
    "logreg.fit(X_train,y_train) # fit the data\n",
    "y_pred = logreg.predict(X_test) \n",
    "#X['MOSTYPE Customer Subtype see L0']"
   ]
  },
  {
   "cell_type": "code",
   "execution_count": 8,
   "metadata": {},
   "outputs": [
    {
     "data": {
      "text/plain": [
       "array([[1356,    5],\n",
       "       [  93,    2]], dtype=int64)"
      ]
     },
     "execution_count": 8,
     "metadata": {},
     "output_type": "execute_result"
    }
   ],
   "source": [
    "# Model evaluation by confusion matrix\n",
    "from sklearn import metrics\n",
    "cnf_matrix = metrics.confusion_matrix(y_test, y_pred)\n",
    "cnf_matrix"
   ]
  },
  {
   "cell_type": "code",
   "execution_count": 9,
   "metadata": {},
   "outputs": [
    {
     "name": "stdout",
     "output_type": "stream",
     "text": [
      "Accuracy: 0.9326923076923077\n",
      "Precision: 0.2857142857142857\n",
      "Recall: 0.021052631578947368\n"
     ]
    }
   ],
   "source": [
    "# model evaluation by accuracy, precission and Recall\n",
    "print(\"Accuracy:\",metrics.accuracy_score(y_test, y_pred))\n",
    "print(\"Precision:\",metrics.precision_score(y_test, y_pred))\n",
    "print(\"Recall:\",metrics.recall_score(y_test, y_pred))"
   ]
  },
  {
   "cell_type": "markdown",
   "metadata": {},
   "source": [
    "The accuracy is good, precision is low, and the recall is even lower."
   ]
  },
  {
   "cell_type": "code",
   "execution_count": 10,
   "metadata": {},
   "outputs": [],
   "source": [
    "# accuracy = tp+tn/tp+tn + fp+fn (tn, fp, fn, tp)\n",
    "# precision = tp/tp+fp - if predicted to be positive, what is the prob that it is true?\n",
    "# recall = tp/tp+fn -  out of total positive cases, how many are predicted as positive? also known\n",
    "# as true positive rate. Look for true negative rate too.\n",
    "#a b// c, d sencitivity = d/c+d,  tp/tp+fn , specificity = a/a+b, tn/tn+fp"
   ]
  },
  {
   "cell_type": "markdown",
   "metadata": {},
   "source": [
    " Since it is an unbalanced data, we try Upsampling and Downsampling"
   ]
  },
  {
   "cell_type": "code",
   "execution_count": 11,
   "metadata": {},
   "outputs": [],
   "source": [
    "# Upsampling\n",
    "from imblearn.over_sampling import SMOTE"
   ]
  },
  {
   "cell_type": "code",
   "execution_count": 18,
   "metadata": {},
   "outputs": [
    {
     "name": "stdout",
     "output_type": "stream",
     "text": [
      "0    4113\n",
      "1     253\n",
      "Name: CARAVAN Number of mobile home policies 0 - 1, dtype: int64\n",
      "[4113 4113]\n"
     ]
    }
   ],
   "source": [
    "print(y_train.value_counts()) # count the numbers of 0 and 1 before sampling\n",
    "smt = SMOTE()\n",
    "X_train1, y_train1 = smt.fit_sample(X_train, y_train)\n",
    "y_train.value_counts()\n",
    "print(np.bincount(y_train1)) # count the numbers of 0 and 1 after sampling"
   ]
  },
  {
   "cell_type": "code",
   "execution_count": 19,
   "metadata": {},
   "outputs": [
    {
     "name": "stderr",
     "output_type": "stream",
     "text": [
      "C:\\Users\\sabin\\Anaconda3\\lib\\site-packages\\sklearn\\linear_model\\logistic.py:433: FutureWarning: Default solver will be changed to 'lbfgs' in 0.22. Specify a solver to silence this warning.\n",
      "  FutureWarning)\n"
     ]
    },
    {
     "name": "stdout",
     "output_type": "stream",
     "text": [
      "[[995 366]\n",
      " [ 46  49]]\n"
     ]
    },
    {
     "data": {
      "text/plain": [
       "0    1361\n",
       "1      95\n",
       "Name: CARAVAN Number of mobile home policies 0 - 1, dtype: int64"
      ]
     },
     "execution_count": 19,
     "metadata": {},
     "output_type": "execute_result"
    }
   ],
   "source": [
    "logreg.fit(X_train1,y_train1) # fit the data\n",
    "y_pred = logreg.predict(X_test) \n",
    "cnf_matrix = metrics.confusion_matrix(y_test, y_pred)\n",
    "print(cnf_matrix)\n",
    "y_test.value_counts()"
   ]
  },
  {
   "cell_type": "code",
   "execution_count": 22,
   "metadata": {},
   "outputs": [
    {
     "data": {
      "text/plain": [
       "Text(0.5,15,'Predicted label')"
      ]
     },
     "execution_count": 22,
     "metadata": {},
     "output_type": "execute_result"
    },
    {
     "data": {
      "image/png": "[encoded data removed]",
      "text/plain": [
       "<Figure size 432x288 with 2 Axes>"
      ]
     },
     "metadata": {},
     "output_type": "display_data"
    }
   ],
   "source": [
    "# Visualize the confusion matrix by using a heatmap\n",
    "%matplotlib inline\n",
    "import numpy as np\n",
    "import matplotlib.pyplot as plt\n",
    "import seaborn as sns\n",
    "\n",
    "sns.heatmap(pd.DataFrame(cnf_matrix), annot=True, cmap=\"YlGnBu\" ,fmt='g')\n",
    "plt.tight_layout()\n",
    "plt.title('Confusion matrix')\n",
    "plt.ylabel('Actual label')\n",
    "plt.xlabel('Predicted label')"
   ]
  },
  {
   "cell_type": "code",
   "execution_count": 20,
   "metadata": {},
   "outputs": [
    {
     "name": "stdout",
     "output_type": "stream",
     "text": [
      "Accuracy: 0.717032967032967\n",
      "Precision: 0.1180722891566265\n",
      "Recall: 0.5157894736842106\n"
     ]
    }
   ],
   "source": [
    "print(\"Accuracy:\",metrics.accuracy_score(y_test, y_pred))\n",
    "print(\"Precision:\",metrics.precision_score(y_test, y_pred))\n",
    "print(\"Recall:\",metrics.recall_score(y_test, y_pred))"
   ]
  },
  {
   "cell_type": "markdown",
   "metadata": {},
   "source": [
    "The accuracy is around 70% which is reasonable. To understand how good are the values of precision and recall, \n",
    "the precision of 0.12 means that if an observation is predicted to be positive, there is 12% chance that it is actually positive.\n",
    "Compared to our base value (which is 6% from a random guess), its a significant improvement. Similarly, the value of recall is 0.52\n",
    "meaning that out of all positve class cases 52% were identified as positive. "
   ]
  },
  {
   "cell_type": "code",
   "execution_count": 23,
   "metadata": {},
   "outputs": [
    {
     "name": "stdout",
     "output_type": "stream",
     "text": [
      "[[450 911]\n",
      " [ 30  65]]\n"
     ]
    },
    {
     "name": "stderr",
     "output_type": "stream",
     "text": [
      "C:\\Users\\sabin\\Anaconda3\\lib\\site-packages\\sklearn\\linear_model\\logistic.py:433: FutureWarning: Default solver will be changed to 'lbfgs' in 0.22. Specify a solver to silence this warning.\n",
      "  FutureWarning)\n"
     ]
    }
   ],
   "source": [
    "# Now, do down sampling applying NearMiss\n",
    "from imblearn.under_sampling import NearMiss\n",
    "nr = NearMiss()\n",
    "X_train2, y_train2 = nr.fit_sample(X_train, y_train)\n",
    "np.bincount(y_train2)\n",
    "\n",
    "logreg.fit(X_train2, y_train2) # fit the data\n",
    "y_pred = logreg.predict(X_test) \n",
    "cnf_matrix = metrics.confusion_matrix(y_test, y_pred)\n",
    "print(cnf_matrix)"
   ]
  },
  {
   "cell_type": "code",
   "execution_count": 24,
   "metadata": {},
   "outputs": [
    {
     "name": "stdout",
     "output_type": "stream",
     "text": [
      "Accuracy: 0.35370879120879123\n",
      "Precision: 0.06659836065573771\n",
      "Recall: 0.6842105263157895\n"
     ]
    }
   ],
   "source": [
    "# model evaluation by accuracy, precission and Recall\n",
    "print(\"Accuracy:\",metrics.accuracy_score(y_test, y_pred))\n",
    "print(\"Precision:\",metrics.precision_score(y_test, y_pred))\n",
    "print(\"Recall:\",metrics.recall_score(y_test, y_pred))"
   ]
  },
  {
   "cell_type": "markdown",
   "metadata": {},
   "source": [
    "Better than before in recall but worse in accuracy and precision"
   ]
  },
  {
   "cell_type": "code",
   "execution_count": 26,
   "metadata": {},
   "outputs": [],
   "source": [
    "## Neural network in Keras\n",
    "import numpy as np\n",
    "from keras.layers import Dense\n",
    "from keras.models import Sequential\n",
    "n_cols = df.shape[1]-1\n",
    "from keras.wrappers.scikit_learn import KerasClassifier\n",
    "from sklearn.model_selection import GridSearchCV\n",
    "from time import time\n",
    "# create baseline model\n",
    "def create_baseline(optimizer='rmsprop', init = 'uniform'):\n",
    "    model = Sequential()\n",
    "    model.add(Dense(85, activation='relu', input_dim=n_cols))\n",
    "    model.add(Dense(85, activation='relu'))\n",
    "    model.add(Dense(85, activation='relu'))\n",
    "    model.add(Dense(85, activation='relu'))\n",
    "    model.add(Dense(85, activation='relu'))\n",
    "    model.add(Dense(1, activation='sigmoid')) \n",
    "    model.compile(loss='binary_crossentropy', optimizer=optimizer, metrics=['accuracy']) \n",
    "    return model\n"
   ]
  },
  {
   "cell_type": "code",
   "execution_count": 38,
   "metadata": {},
   "outputs": [
    {
     "name": "stderr",
     "output_type": "stream",
     "text": [
      "C:\\Users\\sabin\\Anaconda3\\lib\\site-packages\\sklearn\\model_selection\\_split.py:2053: FutureWarning: You should specify a value for 'cv' instead of relying on the default value. The default value will change from 3 to 5 in version 0.22.\n",
      "  warnings.warn(CV_WARNING, FutureWarning)\n"
     ]
    },
    {
     "name": "stdout",
     "output_type": "stream",
     "text": [
      "Best: 0.942052 using {'batch_size': 10, 'epochs': 60, 'init': 'glorot_uniform', 'optimizer': 'rmsprop'}\n",
      "total time: 960.1043825149536\n"
     ]
    }
   ],
   "source": [
    "# Hyperparameter tuning by GridsearchCV\n",
    "start = time()\n",
    "model = KerasClassifier(build_fn=create_baseline, verbose = 0)\n",
    "\n",
    "inits = ['glorot_uniform', 'normal']\n",
    "optimizers = ['rmsprop', 'adam']\n",
    "epochs = np.array([60])\n",
    "batches = np.array([10])\n",
    "\n",
    "param_dict = dict(optimizer=optimizers, epochs=epochs, batch_size=batches, init=inits)\n",
    "grid = GridSearchCV(estimator=model, param_grid=param_dict)\n",
    "grid_result = grid.fit(X_train, y_train)\n",
    "print(\"Best: %f using %s\" % (grid_result.best_score_, grid_result.best_params_))\n",
    "#for params, mean_score, scores in grid_result.grid_scores_:\n",
    "#    print(\"%f (%f) with: %r\" % (scores.mean(), scores.std(), params))\n",
    "print(\"total time:\",time()-start)\n",
    "best_epochs = grid_result.best_params_['epochs']\n",
    "best_batch_size = grid_result.best_params_['batch_size']\n",
    "best_init = grid_result.best_params_['init']\n",
    "best_optimizer = grid_result.best_params_['optimizer']"
   ]
  },
  {
   "cell_type": "markdown",
   "metadata": {},
   "source": [
    "GridsearchCV is very slow, so we tune the hyperparameters manually."
   ]
  },
  {
   "cell_type": "code",
   "execution_count": 27,
   "metadata": {},
   "outputs": [
    {
     "name": "stdout",
     "output_type": "stream",
     "text": [
      "Epoch 1/60\n",
      "4366/4366 [==============================] - 3s 744us/step - loss: 0.2209 - acc: 0.9418\n",
      "Epoch 2/60\n",
      "4366/4366 [==============================] - 2s 430us/step - loss: 0.2060 - acc: 0.9421\n",
      "Epoch 3/60\n",
      "4366/4366 [==============================] - 2s 426us/step - loss: 0.1987 - acc: 0.9421\n",
      "Epoch 4/60\n",
      "4366/4366 [==============================] - 2s 419us/step - loss: 0.1952 - acc: 0.9421\n",
      "Epoch 5/60\n",
      "4366/4366 [==============================] - 2s 423us/step - loss: 0.1933 - acc: 0.9421\n",
      "Epoch 6/60\n",
      "4366/4366 [==============================] - 2s 417us/step - loss: 0.1903 - acc: 0.9421\n",
      "Epoch 7/60\n",
      "4366/4366 [==============================] - 2s 420us/step - loss: 0.1832 - acc: 0.9421\n",
      "Epoch 8/60\n",
      "4366/4366 [==============================] - 2s 420us/step - loss: 0.1847 - acc: 0.9421\n",
      "Epoch 9/60\n",
      "4366/4366 [==============================] - 2s 429us/step - loss: 0.1780 - acc: 0.9423\n",
      "Epoch 10/60\n",
      "4366/4366 [==============================] - 2s 421us/step - loss: 0.1753 - acc: 0.9425\n",
      "Epoch 11/60\n",
      "4366/4366 [==============================] - 2s 400us/step - loss: 0.1698 - acc: 0.9423\n",
      "Epoch 12/60\n",
      "4366/4366 [==============================] - 1s 276us/step - loss: 0.1637 - acc: 0.9450\n",
      "Epoch 13/60\n",
      "4366/4366 [==============================] - 1s 270us/step - loss: 0.1590 - acc: 0.9448\n",
      "Epoch 14/60\n",
      "4366/4366 [==============================] - 1s 285us/step - loss: 0.1571 - acc: 0.9448\n",
      "Epoch 15/60\n",
      "4366/4366 [==============================] - 1s 267us/step - loss: 0.1516 - acc: 0.9455\n",
      "Epoch 16/60\n",
      "4366/4366 [==============================] - 1s 270us/step - loss: 0.1486 - acc: 0.9478\n",
      "Epoch 17/60\n",
      "4366/4366 [==============================] - 1s 269us/step - loss: 0.1459 - acc: 0.9492\n",
      "Epoch 18/60\n",
      "4366/4366 [==============================] - 1s 261us/step - loss: 0.1401 - acc: 0.9478\n",
      "Epoch 19/60\n",
      "4366/4366 [==============================] - 1s 275us/step - loss: 0.1383 - acc: 0.9482\n",
      "Epoch 20/60\n",
      "4366/4366 [==============================] - 1s 272us/step - loss: 0.1330 - acc: 0.9521\n",
      "Epoch 21/60\n",
      "4366/4366 [==============================] - 1s 254us/step - loss: 0.1287 - acc: 0.9487\n",
      "Epoch 22/60\n",
      "4366/4366 [==============================] - 1s 258us/step - loss: 0.1283 - acc: 0.9526\n",
      "Epoch 23/60\n",
      "4366/4366 [==============================] - 1s 275us/step - loss: 0.1258 - acc: 0.9505\n",
      "Epoch 24/60\n",
      "4366/4366 [==============================] - 1s 274us/step - loss: 0.1196 - acc: 0.9526\n",
      "Epoch 25/60\n",
      "4366/4366 [==============================] - 1s 268us/step - loss: 0.1181 - acc: 0.9551\n",
      "Epoch 26/60\n",
      "4366/4366 [==============================] - 1s 251us/step - loss: 0.1124 - acc: 0.9533\n",
      "Epoch 27/60\n",
      "4366/4366 [==============================] - 1s 268us/step - loss: 0.1137 - acc: 0.9553\n",
      "Epoch 28/60\n",
      "4366/4366 [==============================] - 1s 257us/step - loss: 0.1130 - acc: 0.9553\n",
      "Epoch 29/60\n",
      "4366/4366 [==============================] - 1s 270us/step - loss: 0.1051 - acc: 0.9595\n",
      "Epoch 30/60\n",
      "4366/4366 [==============================] - 1s 270us/step - loss: 0.1116 - acc: 0.9585\n",
      "Epoch 31/60\n",
      "4366/4366 [==============================] - 1s 263us/step - loss: 0.1010 - acc: 0.9634\n",
      "Epoch 32/60\n",
      "4366/4366 [==============================] - 1s 262us/step - loss: 0.1081 - acc: 0.9572\n",
      "Epoch 33/60\n",
      "4366/4366 [==============================] - 1s 278us/step - loss: 0.0951 - acc: 0.9604\n",
      "Epoch 34/60\n",
      "4366/4366 [==============================] - 1s 254us/step - loss: 0.0960 - acc: 0.9624\n",
      "Epoch 35/60\n",
      "4366/4366 [==============================] - 1s 277us/step - loss: 0.0897 - acc: 0.9643\n",
      "Epoch 36/60\n",
      "4366/4366 [==============================] - 1s 277us/step - loss: 0.0997 - acc: 0.9645\n",
      "Epoch 37/60\n",
      "4366/4366 [==============================] - 1s 258us/step - loss: 0.0847 - acc: 0.9654\n",
      "Epoch 38/60\n",
      "4366/4366 [==============================] - 1s 245us/step - loss: 0.0881 - acc: 0.9640\n",
      "Epoch 39/60\n",
      "4366/4366 [==============================] - 1s 247us/step - loss: 0.0836 - acc: 0.9691\n",
      "Epoch 40/60\n",
      "4366/4366 [==============================] - 1s 248us/step - loss: 0.0820 - acc: 0.9661\n",
      "Epoch 41/60\n",
      "4366/4366 [==============================] - 1s 261us/step - loss: 0.0867 - acc: 0.9663\n",
      "Epoch 42/60\n",
      "4366/4366 [==============================] - 1s 265us/step - loss: 0.0814 - acc: 0.9672\n",
      "Epoch 43/60\n",
      "4366/4366 [==============================] - 1s 265us/step - loss: 0.0760 - acc: 0.9670\n",
      "Epoch 44/60\n",
      "4366/4366 [==============================] - 1s 270us/step - loss: 0.0765 - acc: 0.9691\n",
      "Epoch 45/60\n",
      "4366/4366 [==============================] - 1s 268us/step - loss: 0.0761 - acc: 0.9698\n",
      "Epoch 46/60\n",
      "4366/4366 [==============================] - 1s 268us/step - loss: 0.0803 - acc: 0.9695\n",
      "Epoch 47/60\n",
      "4366/4366 [==============================] - 1s 260us/step - loss: 0.0751 - acc: 0.9718\n",
      "Epoch 48/60\n",
      "4366/4366 [==============================] - 1s 248us/step - loss: 0.0750 - acc: 0.9695\n",
      "Epoch 49/60\n",
      "4366/4366 [==============================] - 1s 270us/step - loss: 0.0752 - acc: 0.9721\n",
      "Epoch 50/60\n",
      "4366/4366 [==============================] - 1s 264us/step - loss: 0.0775 - acc: 0.9698\n",
      "Epoch 51/60\n",
      "4366/4366 [==============================] - 1s 244us/step - loss: 0.0700 - acc: 0.9709\n",
      "Epoch 52/60\n",
      "4366/4366 [==============================] - 1s 272us/step - loss: 0.0725 - acc: 0.9721\n",
      "Epoch 53/60\n",
      "4366/4366 [==============================] - 1s 270us/step - loss: 0.0627 - acc: 0.9737\n",
      "Epoch 54/60\n",
      "4366/4366 [==============================] - 1s 259us/step - loss: 0.0613 - acc: 0.9730\n",
      "Epoch 55/60\n",
      "4366/4366 [==============================] - 1s 268us/step - loss: 0.0828 - acc: 0.9682\n",
      "Epoch 56/60\n",
      "4366/4366 [==============================] - 1s 275us/step - loss: 0.0622 - acc: 0.9748\n",
      "Epoch 57/60\n",
      "4366/4366 [==============================] - 1s 276us/step - loss: 0.0620 - acc: 0.9737\n",
      "Epoch 58/60\n",
      "4366/4366 [==============================] - 1s 278us/step - loss: 0.0638 - acc: 0.9739\n",
      "Epoch 59/60\n",
      "4366/4366 [==============================] - 1s 280us/step - loss: 0.0594 - acc: 0.9771\n",
      "Epoch 60/60\n",
      "4366/4366 [==============================] - 1s 278us/step - loss: 0.0661 - acc: 0.9737\n"
     ]
    },
    {
     "data": {
      "text/plain": [
       "<keras.callbacks.History at 0x1c0dc364e48>"
      ]
     },
     "execution_count": 27,
     "metadata": {},
     "output_type": "execute_result"
    }
   ],
   "source": [
    "# do it manually\n",
    "best_epochs = 60\n",
    "best_batch_size = 10\n",
    "best_init = 'glorot_uniform'\n",
    "best_optimizer = 'adam'\n",
    "# Now create a classifier with manually chosen parameters\n",
    "classifier_pred = KerasClassifier(build_fn=create_baseline, optimizer=best_optimizer, init=best_init, epochs=best_epochs, batch_size=best_batch_size, verbose=1)\n",
    "classifier_pred.fit(X_train, y_train)"
   ]
  },
  {
   "cell_type": "code",
   "execution_count": 42,
   "metadata": {},
   "outputs": [
    {
     "name": "stdout",
     "output_type": "stream",
     "text": [
      "1456/1456 [==============================] - 0s 135us/step\n",
      "[[1304   57]\n",
      " [  88    7]]\n",
      "Accuracy: 0.9004120879120879\n",
      "Precision: 0.109375\n",
      "Recall: 0.07368421052631578\n"
     ]
    }
   ],
   "source": [
    "y_pred=classifier_pred.predict(X_test)\n",
    "## calculate model performance\n",
    "cm = metrics.confusion_matrix(y_test, y_pred)\n",
    "print(cm)\n",
    "print(\"Accuracy:\",metrics.accuracy_score(y_test, y_pred))\n",
    "print(\"Precision:\",metrics.precision_score(y_test, y_pred))\n",
    "print(\"Recall:\",metrics.recall_score(y_test, y_pred))"
   ]
  },
  {
   "cell_type": "markdown",
   "metadata": {},
   "source": [
    "Logistic regression with upsampling is the best model so far. Now we try other classifiers as well."
   ]
  },
  {
   "cell_type": "code",
   "execution_count": 28,
   "metadata": {},
   "outputs": [],
   "source": [
    "# Other classifiers\n",
    "from sklearn.naive_bayes import GaussianNB\n",
    "from sklearn.naive_bayes import MultinomialNB\n",
    "from sklearn.ensemble import RandomForestClassifier, AdaBoostClassifier, GradientBoostingClassifier\n",
    "from sklearn.neighbors import KNeighborsClassifier\n",
    "from sklearn.tree import DecisionTreeClassifier\n",
    "from sklearn.svm import SVC\n",
    "from sklearn.discriminant_analysis import LinearDiscriminantAnalysis\n",
    "from sklearn.discriminant_analysis import QuadraticDiscriminantAnalysis\n",
    "\n",
    "classifiers = [GaussianNB(var_smoothing=1e-04), MultinomialNB(alpha=1, class_prior=None, fit_prior=True),\n",
    "               RandomForestClassifier(max_depth=6, criterion = 'gini', max_features = 'log2', n_estimators=20),AdaBoostClassifier(algorithm='SAMME.R', base_estimator=None,\n",
    "          learning_rate=1.8, n_estimators=50, random_state=None), GradientBoostingClassifier(),\n",
    "               KNeighborsClassifier(5), SVC(kernel=\"rbf\", C=0.25, probability=True), DecisionTreeClassifier(),\n",
    "              LinearDiscriminantAnalysis(),QuadraticDiscriminantAnalysis(tol=0.1e-6, reg_param=0.1)]"
   ]
  },
  {
   "cell_type": "code",
   "execution_count": 193,
   "metadata": {},
   "outputs": [
    {
     "name": "stdout",
     "output_type": "stream",
     "text": [
      "GaussianNB(priors=None, var_smoothing=0.0001)\n",
      "[[885 476]\n",
      " [ 32  63]]\n",
      "Accuracy: 0.6510989010989011\n",
      "Precision: 0.11688311688311688\n",
      "Recall: 0.6631578947368421\n",
      "MultinomialNB(alpha=1, class_prior=None, fit_prior=True)\n",
      "[[1103  258]\n",
      " [  53   42]]\n",
      "Accuracy: 0.7864010989010989\n",
      "Precision: 0.14\n",
      "Recall: 0.4421052631578947\n",
      "RandomForestClassifier(bootstrap=True, class_weight=None, criterion='gini',\n",
      "            max_depth=6, max_features='log2', max_leaf_nodes=None,\n",
      "            min_impurity_decrease=0.0, min_impurity_split=None,\n",
      "            min_samples_leaf=1, min_samples_split=2,\n",
      "            min_weight_fraction_leaf=0.0, n_estimators=20, n_jobs=None,\n",
      "            oob_score=False, random_state=None, verbose=0,\n",
      "            warm_start=False)\n",
      "[[1361    0]\n",
      " [  95    0]]\n",
      "Accuracy: 0.9347527472527473\n",
      "Precision: 0.0\n",
      "Recall: 0.0\n"
     ]
    },
    {
     "name": "stderr",
     "output_type": "stream",
     "text": [
      "C:\\Users\\sabin\\Anaconda3\\lib\\site-packages\\sklearn\\metrics\\classification.py:1143: UndefinedMetricWarning: Precision is ill-defined and being set to 0.0 due to no predicted samples.\n",
      "  'precision', 'predicted', average, warn_for)\n"
     ]
    },
    {
     "name": "stdout",
     "output_type": "stream",
     "text": [
      "AdaBoostClassifier(algorithm='SAMME.R', base_estimator=None,\n",
      "          learning_rate=1.8, n_estimators=50, random_state=None)\n",
      "[[1341   20]\n",
      " [  87    8]]\n",
      "Accuracy: 0.926510989010989\n",
      "Precision: 0.2857142857142857\n",
      "Recall: 0.08421052631578947\n",
      "GradientBoostingClassifier(criterion='friedman_mse', init=None,\n",
      "              learning_rate=0.1, loss='deviance', max_depth=3,\n",
      "              max_features=None, max_leaf_nodes=None,\n",
      "              min_impurity_decrease=0.0, min_impurity_split=None,\n",
      "              min_samples_leaf=1, min_samples_split=2,\n",
      "              min_weight_fraction_leaf=0.0, n_estimators=100,\n",
      "              n_iter_no_change=None, presort='auto', random_state=None,\n",
      "              subsample=1.0, tol=0.0001, validation_fraction=0.1,\n",
      "              verbose=0, warm_start=False)\n",
      "[[1351   10]\n",
      " [  94    1]]\n",
      "Accuracy: 0.9285714285714286\n",
      "Precision: 0.09090909090909091\n",
      "Recall: 0.010526315789473684\n",
      "KNeighborsClassifier(algorithm='auto', leaf_size=30, metric='minkowski',\n",
      "           metric_params=None, n_jobs=None, n_neighbors=5, p=2,\n",
      "           weights='uniform')\n",
      "[[1354    7]\n",
      " [  95    0]]\n",
      "Accuracy: 0.929945054945055\n",
      "Precision: 0.0\n",
      "Recall: 0.0\n"
     ]
    },
    {
     "name": "stderr",
     "output_type": "stream",
     "text": [
      "C:\\Users\\sabin\\Anaconda3\\lib\\site-packages\\sklearn\\svm\\base.py:196: FutureWarning: The default value of gamma will change from 'auto' to 'scale' in version 0.22 to account better for unscaled features. Set gamma explicitly to 'auto' or 'scale' to avoid this warning.\n",
      "  \"avoid this warning.\", FutureWarning)\n"
     ]
    },
    {
     "name": "stdout",
     "output_type": "stream",
     "text": [
      "SVC(C=0.25, cache_size=200, class_weight=None, coef0=0.0,\n",
      "  decision_function_shape='ovr', degree=3, gamma='auto_deprecated',\n",
      "  kernel='rbf', max_iter=-1, probability=True, random_state=None,\n",
      "  shrinking=True, tol=0.001, verbose=False)\n",
      "[[1361    0]\n",
      " [  95    0]]\n",
      "Accuracy: 0.9347527472527473\n",
      "Precision: 0.0\n",
      "Recall: 0.0\n",
      "DecisionTreeClassifier(class_weight=None, criterion='gini', max_depth=None,\n",
      "            max_features=None, max_leaf_nodes=None,\n",
      "            min_impurity_decrease=0.0, min_impurity_split=None,\n",
      "            min_samples_leaf=1, min_samples_split=2,\n",
      "            min_weight_fraction_leaf=0.0, presort=False, random_state=None,\n",
      "            splitter='best')\n",
      "[[1279   82]\n",
      " [  82   13]]\n",
      "Accuracy: 0.8873626373626373\n",
      "Precision: 0.1368421052631579\n",
      "Recall: 0.1368421052631579\n",
      "LinearDiscriminantAnalysis(n_components=None, priors=None, shrinkage=None,\n",
      "              solver='svd', store_covariance=False, tol=0.0001)\n",
      "[[1349   12]\n",
      " [  91    4]]\n",
      "Accuracy: 0.9292582417582418\n",
      "Precision: 0.25\n",
      "Recall: 0.042105263157894736\n",
      "QuadraticDiscriminantAnalysis(priors=None, reg_param=0.1,\n",
      "               store_covariance=False, store_covariances=None, tol=1e-07)\n",
      "[[1197  164]\n",
      " [  67   28]]\n",
      "Accuracy: 0.8413461538461539\n",
      "Precision: 0.14583333333333334\n",
      "Recall: 0.29473684210526313\n"
     ]
    },
    {
     "name": "stderr",
     "output_type": "stream",
     "text": [
      "C:\\Users\\sabin\\Anaconda3\\lib\\site-packages\\sklearn\\metrics\\classification.py:1143: UndefinedMetricWarning: Precision is ill-defined and being set to 0.0 due to no predicted samples.\n",
      "  'precision', 'predicted', average, warn_for)\n",
      "C:\\Users\\sabin\\Anaconda3\\lib\\site-packages\\sklearn\\discriminant_analysis.py:692: UserWarning: Variables are collinear\n",
      "  warnings.warn(\"Variables are collinear\")\n"
     ]
    }
   ],
   "source": [
    "for model in classifiers:\n",
    "    model.fit(X_train, y_train)\n",
    "    y_pred = model.predict(X_test)\n",
    "    cm = metrics.confusion_matrix(y_test, y_pred)\n",
    "    print(model)\n",
    "    print(cm)\n",
    "    print(\"Accuracy:\",metrics.accuracy_score(y_test, y_pred))\n",
    "    print(\"Precision:\",metrics.precision_score(y_test, y_pred))\n",
    "    print(\"Recall:\",metrics.recall_score(y_test, y_pred))"
   ]
  },
  {
   "cell_type": "markdown",
   "metadata": {},
   "source": [
    "The hyper parameters for all the above models were tuned manually. Among the models we trained, Logistic regression, GaussianNB and MultinomialNB (neural network models) performed well. \n"
   ]
  }
 ],
 "metadata": {
  "kernelspec": {
   "display_name": "Python 3",
   "language": "python",
   "name": "python3"
  },
  "language_info": {
   "codemirror_mode": {
    "name": "ipython",
    "version": 3
   },
   "file_extension": ".py",
   "mimetype": "text/x-python",
   "name": "python",
   "nbconvert_exporter": "python",
   "pygments_lexer": "ipython3",
   "version": "3.6.5"
  }
 },
 "nbformat": 4,
 "nbformat_minor": 2
}
