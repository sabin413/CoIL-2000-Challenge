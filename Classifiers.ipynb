{
 "cells": [
  {
   "cell_type": "code",
   "execution_count": 1,
   "id": "5cd58c8f",
   "metadata": {},
   "outputs": [],
   "source": [
    "# Logistic regession, Neural Network, and XG Boost"
   ]
  },
  {
   "cell_type": "code",
   "execution_count": 2,
   "id": "90a13e7b",
   "metadata": {},
   "outputs": [],
   "source": [
    "#from platform import python_version\n",
    "#python_version()\n",
    "#import tensorflow as tf"
   ]
  },
  {
   "cell_type": "code",
   "execution_count": 3,
   "id": "ba0b720b",
   "metadata": {},
   "outputs": [],
   "source": [
    "# read the feature description txt. file and make a list of feature names\n",
    "features_list = [] \n",
    "fh = open('TicDataDescr.txt', 'r')\n",
    "for i, line in enumerate(fh):\n",
    "    if 32 < i < 51: # 204:\n",
    "        features_list.append(line.rstrip('\\n')[2:])\n",
    "    elif 51 <= i< 204:\n",
    "        features_list.append(line.rstrip('\\n')[3:])\n",
    "fh.close()\n",
    "\n",
    "while '' in features_list:\n",
    "    features_list.remove('')\n",
    "#print(features_list)\n",
    "#len(features_list)"
   ]
  },
  {
   "cell_type": "code",
   "execution_count": 4,
   "id": "fba839a7",
   "metadata": {},
   "outputs": [],
   "source": [
    "import pandas as pd\n",
    "df = pd.read_table('ticdata2000.txt', names=features_list) # assign the feature names from the list prepared before\n",
    "#df_test = pd.read_table('ticeval2000.txt', names=features_list) # test data set"
   ]
  },
  {
   "cell_type": "code",
   "execution_count": 5,
   "id": "43ebd16a",
   "metadata": {},
   "outputs": [
    {
     "name": "stdout",
     "output_type": "stream",
     "text": [
      "348 5.977327378907592\n"
     ]
    }
   ],
   "source": [
    "# Find the total number of positive class in the target - baseline\n",
    "ls = list(df['CARAVAN Number of mobile home policies 0 - 1'].values)\n",
    "num_policy_users = ls.count(1)\n",
    "num_nonusers = ls.count(0)\n",
    "users_perc = num_policy_users*100/(num_policy_users+num_nonusers)\n",
    "print(num_policy_users, users_perc)"
   ]
  },
  {
   "cell_type": "markdown",
   "id": "1940f918",
   "metadata": {},
   "source": [
    "We have a baseline for our models here, 348 out of 5822 customers, which is about 6%, own the insurence policy. This means only 6% of the total customers belong to the positive class and hence the data is unbalanced."
   ]
  },
  {
   "cell_type": "code",
   "execution_count": 6,
   "id": "0065c9de",
   "metadata": {},
   "outputs": [
    {
     "data": {
      "text/html": [
       "<div>\n",
       "<style scoped>\n",
       "    .dataframe tbody tr th:only-of-type {\n",
       "        vertical-align: middle;\n",
       "    }\n",
       "\n",
       "    .dataframe tbody tr th {\n",
       "        vertical-align: top;\n",
       "    }\n",
       "\n",
       "    .dataframe thead th {\n",
       "        text-align: right;\n",
       "    }\n",
       "</style>\n",
       "<table border=\"1\" class=\"dataframe\">\n",
       "  <thead>\n",
       "    <tr style=\"text-align: right;\">\n",
       "      <th></th>\n",
       "      <th>MOSTYPE Customer Subtype see L0</th>\n",
       "      <th>MAANTHUI Number of houses 1 – 10</th>\n",
       "      <th>MGEMOMV Avg size household 1 – 6</th>\n",
       "      <th>MGEMLEEF Avg age see L1</th>\n",
       "      <th>MOSHOOFD Customer main type see L2</th>\n",
       "      <th>MGODRK Roman catholic see L3</th>\n",
       "      <th>MGODPR Protestant ...</th>\n",
       "      <th>MGODOV Other religion</th>\n",
       "      <th>MGODGE No religion</th>\n",
       "      <th>MRELGE Married</th>\n",
       "      <th>...</th>\n",
       "      <th>APERSONG Number of private accident insurance policies</th>\n",
       "      <th>AGEZONG Number of family accidents insurance policies</th>\n",
       "      <th>AWAOREG Number of disability insurance policies</th>\n",
       "      <th>ABRAND Number of fire policies</th>\n",
       "      <th>AZEILPL Number of surfboard policies</th>\n",
       "      <th>APLEZIER Number of boat policies</th>\n",
       "      <th>AFIETS Number of bicycle policies</th>\n",
       "      <th>AINBOED Number of property insurance policies</th>\n",
       "      <th>ABYSTAND Number of social security insurance policies</th>\n",
       "      <th>CARAVAN Number of mobile home policies 0 - 1</th>\n",
       "    </tr>\n",
       "  </thead>\n",
       "  <tbody>\n",
       "    <tr>\n",
       "      <th>count</th>\n",
       "      <td>5822.000000</td>\n",
       "      <td>5822.000000</td>\n",
       "      <td>5822.000000</td>\n",
       "      <td>5822.000000</td>\n",
       "      <td>5822.000000</td>\n",
       "      <td>5822.000000</td>\n",
       "      <td>5822.000000</td>\n",
       "      <td>5822.000000</td>\n",
       "      <td>5822.000000</td>\n",
       "      <td>5822.000000</td>\n",
       "      <td>...</td>\n",
       "      <td>5822.000000</td>\n",
       "      <td>5822.000000</td>\n",
       "      <td>5822.000000</td>\n",
       "      <td>5822.000000</td>\n",
       "      <td>5822.000000</td>\n",
       "      <td>5822.000000</td>\n",
       "      <td>5822.000000</td>\n",
       "      <td>5822.000000</td>\n",
       "      <td>5822.000000</td>\n",
       "      <td>5822.000000</td>\n",
       "    </tr>\n",
       "    <tr>\n",
       "      <th>mean</th>\n",
       "      <td>24.253349</td>\n",
       "      <td>1.110615</td>\n",
       "      <td>2.678805</td>\n",
       "      <td>2.991240</td>\n",
       "      <td>5.773617</td>\n",
       "      <td>0.696496</td>\n",
       "      <td>4.626932</td>\n",
       "      <td>1.069907</td>\n",
       "      <td>3.258502</td>\n",
       "      <td>6.183442</td>\n",
       "      <td>...</td>\n",
       "      <td>0.005325</td>\n",
       "      <td>0.006527</td>\n",
       "      <td>0.004638</td>\n",
       "      <td>0.570079</td>\n",
       "      <td>0.000515</td>\n",
       "      <td>0.006012</td>\n",
       "      <td>0.031776</td>\n",
       "      <td>0.007901</td>\n",
       "      <td>0.014256</td>\n",
       "      <td>0.059773</td>\n",
       "    </tr>\n",
       "    <tr>\n",
       "      <th>std</th>\n",
       "      <td>12.846706</td>\n",
       "      <td>0.405842</td>\n",
       "      <td>0.789835</td>\n",
       "      <td>0.814589</td>\n",
       "      <td>2.856760</td>\n",
       "      <td>1.003234</td>\n",
       "      <td>1.715843</td>\n",
       "      <td>1.017503</td>\n",
       "      <td>1.597647</td>\n",
       "      <td>1.909482</td>\n",
       "      <td>...</td>\n",
       "      <td>0.072782</td>\n",
       "      <td>0.080532</td>\n",
       "      <td>0.077403</td>\n",
       "      <td>0.562058</td>\n",
       "      <td>0.022696</td>\n",
       "      <td>0.081632</td>\n",
       "      <td>0.210986</td>\n",
       "      <td>0.090463</td>\n",
       "      <td>0.119996</td>\n",
       "      <td>0.237087</td>\n",
       "    </tr>\n",
       "    <tr>\n",
       "      <th>min</th>\n",
       "      <td>1.000000</td>\n",
       "      <td>1.000000</td>\n",
       "      <td>1.000000</td>\n",
       "      <td>1.000000</td>\n",
       "      <td>1.000000</td>\n",
       "      <td>0.000000</td>\n",
       "      <td>0.000000</td>\n",
       "      <td>0.000000</td>\n",
       "      <td>0.000000</td>\n",
       "      <td>0.000000</td>\n",
       "      <td>...</td>\n",
       "      <td>0.000000</td>\n",
       "      <td>0.000000</td>\n",
       "      <td>0.000000</td>\n",
       "      <td>0.000000</td>\n",
       "      <td>0.000000</td>\n",
       "      <td>0.000000</td>\n",
       "      <td>0.000000</td>\n",
       "      <td>0.000000</td>\n",
       "      <td>0.000000</td>\n",
       "      <td>0.000000</td>\n",
       "    </tr>\n",
       "    <tr>\n",
       "      <th>25%</th>\n",
       "      <td>10.000000</td>\n",
       "      <td>1.000000</td>\n",
       "      <td>2.000000</td>\n",
       "      <td>2.000000</td>\n",
       "      <td>3.000000</td>\n",
       "      <td>0.000000</td>\n",
       "      <td>4.000000</td>\n",
       "      <td>0.000000</td>\n",
       "      <td>2.000000</td>\n",
       "      <td>5.000000</td>\n",
       "      <td>...</td>\n",
       "      <td>0.000000</td>\n",
       "      <td>0.000000</td>\n",
       "      <td>0.000000</td>\n",
       "      <td>0.000000</td>\n",
       "      <td>0.000000</td>\n",
       "      <td>0.000000</td>\n",
       "      <td>0.000000</td>\n",
       "      <td>0.000000</td>\n",
       "      <td>0.000000</td>\n",
       "      <td>0.000000</td>\n",
       "    </tr>\n",
       "    <tr>\n",
       "      <th>50%</th>\n",
       "      <td>30.000000</td>\n",
       "      <td>1.000000</td>\n",
       "      <td>3.000000</td>\n",
       "      <td>3.000000</td>\n",
       "      <td>7.000000</td>\n",
       "      <td>0.000000</td>\n",
       "      <td>5.000000</td>\n",
       "      <td>1.000000</td>\n",
       "      <td>3.000000</td>\n",
       "      <td>6.000000</td>\n",
       "      <td>...</td>\n",
       "      <td>0.000000</td>\n",
       "      <td>0.000000</td>\n",
       "      <td>0.000000</td>\n",
       "      <td>1.000000</td>\n",
       "      <td>0.000000</td>\n",
       "      <td>0.000000</td>\n",
       "      <td>0.000000</td>\n",
       "      <td>0.000000</td>\n",
       "      <td>0.000000</td>\n",
       "      <td>0.000000</td>\n",
       "    </tr>\n",
       "    <tr>\n",
       "      <th>75%</th>\n",
       "      <td>35.000000</td>\n",
       "      <td>1.000000</td>\n",
       "      <td>3.000000</td>\n",
       "      <td>3.000000</td>\n",
       "      <td>8.000000</td>\n",
       "      <td>1.000000</td>\n",
       "      <td>6.000000</td>\n",
       "      <td>2.000000</td>\n",
       "      <td>4.000000</td>\n",
       "      <td>7.000000</td>\n",
       "      <td>...</td>\n",
       "      <td>0.000000</td>\n",
       "      <td>0.000000</td>\n",
       "      <td>0.000000</td>\n",
       "      <td>1.000000</td>\n",
       "      <td>0.000000</td>\n",
       "      <td>0.000000</td>\n",
       "      <td>0.000000</td>\n",
       "      <td>0.000000</td>\n",
       "      <td>0.000000</td>\n",
       "      <td>0.000000</td>\n",
       "    </tr>\n",
       "    <tr>\n",
       "      <th>max</th>\n",
       "      <td>41.000000</td>\n",
       "      <td>10.000000</td>\n",
       "      <td>5.000000</td>\n",
       "      <td>6.000000</td>\n",
       "      <td>10.000000</td>\n",
       "      <td>9.000000</td>\n",
       "      <td>9.000000</td>\n",
       "      <td>5.000000</td>\n",
       "      <td>9.000000</td>\n",
       "      <td>9.000000</td>\n",
       "      <td>...</td>\n",
       "      <td>1.000000</td>\n",
       "      <td>1.000000</td>\n",
       "      <td>2.000000</td>\n",
       "      <td>7.000000</td>\n",
       "      <td>1.000000</td>\n",
       "      <td>2.000000</td>\n",
       "      <td>3.000000</td>\n",
       "      <td>2.000000</td>\n",
       "      <td>2.000000</td>\n",
       "      <td>1.000000</td>\n",
       "    </tr>\n",
       "  </tbody>\n",
       "</table>\n",
       "<p>8 rows × 86 columns</p>\n",
       "</div>"
      ],
      "text/plain": [
       "       MOSTYPE Customer Subtype see L0  MAANTHUI Number of houses 1 – 10   \n",
       "count                      5822.000000                       5822.000000  \\\n",
       "mean                         24.253349                          1.110615   \n",
       "std                          12.846706                          0.405842   \n",
       "min                           1.000000                          1.000000   \n",
       "25%                          10.000000                          1.000000   \n",
       "50%                          30.000000                          1.000000   \n",
       "75%                          35.000000                          1.000000   \n",
       "max                          41.000000                         10.000000   \n",
       "\n",
       "       MGEMOMV Avg size household 1 – 6  MGEMLEEF Avg age see L1   \n",
       "count                       5822.000000              5822.000000  \\\n",
       "mean                           2.678805                 2.991240   \n",
       "std                            0.789835                 0.814589   \n",
       "min                            1.000000                 1.000000   \n",
       "25%                            2.000000                 2.000000   \n",
       "50%                            3.000000                 3.000000   \n",
       "75%                            3.000000                 3.000000   \n",
       "max                            5.000000                 6.000000   \n",
       "\n",
       "       MOSHOOFD Customer main type see L2  MGODRK Roman catholic see L3   \n",
       "count                         5822.000000                   5822.000000  \\\n",
       "mean                             5.773617                      0.696496   \n",
       "std                              2.856760                      1.003234   \n",
       "min                              1.000000                      0.000000   \n",
       "25%                              3.000000                      0.000000   \n",
       "50%                              7.000000                      0.000000   \n",
       "75%                              8.000000                      1.000000   \n",
       "max                             10.000000                      9.000000   \n",
       "\n",
       "       MGODPR Protestant ...  MGODOV Other religion  MGODGE No religion   \n",
       "count            5822.000000            5822.000000         5822.000000  \\\n",
       "mean                4.626932               1.069907            3.258502   \n",
       "std                 1.715843               1.017503            1.597647   \n",
       "min                 0.000000               0.000000            0.000000   \n",
       "25%                 4.000000               0.000000            2.000000   \n",
       "50%                 5.000000               1.000000            3.000000   \n",
       "75%                 6.000000               2.000000            4.000000   \n",
       "max                 9.000000               5.000000            9.000000   \n",
       "\n",
       "       MRELGE Married  ...   \n",
       "count     5822.000000  ...  \\\n",
       "mean         6.183442  ...   \n",
       "std          1.909482  ...   \n",
       "min          0.000000  ...   \n",
       "25%          5.000000  ...   \n",
       "50%          6.000000  ...   \n",
       "75%          7.000000  ...   \n",
       "max          9.000000  ...   \n",
       "\n",
       "       APERSONG Number of private accident insurance policies   \n",
       "count                                        5822.000000       \\\n",
       "mean                                            0.005325        \n",
       "std                                             0.072782        \n",
       "min                                             0.000000        \n",
       "25%                                             0.000000        \n",
       "50%                                             0.000000        \n",
       "75%                                             0.000000        \n",
       "max                                             1.000000        \n",
       "\n",
       "       AGEZONG Number of family accidents insurance policies   \n",
       "count                                        5822.000000      \\\n",
       "mean                                            0.006527       \n",
       "std                                             0.080532       \n",
       "min                                             0.000000       \n",
       "25%                                             0.000000       \n",
       "50%                                             0.000000       \n",
       "75%                                             0.000000       \n",
       "max                                             1.000000       \n",
       "\n",
       "       AWAOREG Number of disability insurance policies   \n",
       "count                                      5822.000000  \\\n",
       "mean                                          0.004638   \n",
       "std                                           0.077403   \n",
       "min                                           0.000000   \n",
       "25%                                           0.000000   \n",
       "50%                                           0.000000   \n",
       "75%                                           0.000000   \n",
       "max                                           2.000000   \n",
       "\n",
       "       ABRAND Number of fire policies  AZEILPL Number of surfboard policies   \n",
       "count                     5822.000000                           5822.000000  \\\n",
       "mean                         0.570079                              0.000515   \n",
       "std                          0.562058                              0.022696   \n",
       "min                          0.000000                              0.000000   \n",
       "25%                          0.000000                              0.000000   \n",
       "50%                          1.000000                              0.000000   \n",
       "75%                          1.000000                              0.000000   \n",
       "max                          7.000000                              1.000000   \n",
       "\n",
       "       APLEZIER Number of boat policies  AFIETS Number of bicycle policies   \n",
       "count                       5822.000000                        5822.000000  \\\n",
       "mean                           0.006012                           0.031776   \n",
       "std                            0.081632                           0.210986   \n",
       "min                            0.000000                           0.000000   \n",
       "25%                            0.000000                           0.000000   \n",
       "50%                            0.000000                           0.000000   \n",
       "75%                            0.000000                           0.000000   \n",
       "max                            2.000000                           3.000000   \n",
       "\n",
       "       AINBOED Number of property insurance policies   \n",
       "count                                    5822.000000  \\\n",
       "mean                                        0.007901   \n",
       "std                                         0.090463   \n",
       "min                                         0.000000   \n",
       "25%                                         0.000000   \n",
       "50%                                         0.000000   \n",
       "75%                                         0.000000   \n",
       "max                                         2.000000   \n",
       "\n",
       "       ABYSTAND Number of social security insurance policies   \n",
       "count                                        5822.000000      \\\n",
       "mean                                            0.014256       \n",
       "std                                             0.119996       \n",
       "min                                             0.000000       \n",
       "25%                                             0.000000       \n",
       "50%                                             0.000000       \n",
       "75%                                             0.000000       \n",
       "max                                             2.000000       \n",
       "\n",
       "       CARAVAN Number of mobile home policies 0 - 1  \n",
       "count                                   5822.000000  \n",
       "mean                                       0.059773  \n",
       "std                                        0.237087  \n",
       "min                                        0.000000  \n",
       "25%                                        0.000000  \n",
       "50%                                        0.000000  \n",
       "75%                                        0.000000  \n",
       "max                                        1.000000  \n",
       "\n",
       "[8 rows x 86 columns]"
      ]
     },
     "execution_count": 6,
     "metadata": {},
     "output_type": "execute_result"
    }
   ],
   "source": [
    "df.describe()"
   ]
  },
  {
   "cell_type": "code",
   "execution_count": 7,
   "id": "6f97b65c",
   "metadata": {},
   "outputs": [],
   "source": [
    "from sklearn import preprocessing\n",
    "import numpy as np"
   ]
  },
  {
   "cell_type": "code",
   "execution_count": 8,
   "id": "e0d5456f",
   "metadata": {},
   "outputs": [
    {
     "data": {
      "text/html": [
       "<div>\n",
       "<style scoped>\n",
       "    .dataframe tbody tr th:only-of-type {\n",
       "        vertical-align: middle;\n",
       "    }\n",
       "\n",
       "    .dataframe tbody tr th {\n",
       "        vertical-align: top;\n",
       "    }\n",
       "\n",
       "    .dataframe thead th {\n",
       "        text-align: right;\n",
       "    }\n",
       "</style>\n",
       "<table border=\"1\" class=\"dataframe\">\n",
       "  <thead>\n",
       "    <tr style=\"text-align: right;\">\n",
       "      <th></th>\n",
       "      <th>0</th>\n",
       "      <th>1</th>\n",
       "      <th>2</th>\n",
       "      <th>3</th>\n",
       "      <th>4</th>\n",
       "      <th>5</th>\n",
       "      <th>6</th>\n",
       "      <th>7</th>\n",
       "      <th>8</th>\n",
       "      <th>9</th>\n",
       "      <th>...</th>\n",
       "      <th>76</th>\n",
       "      <th>77</th>\n",
       "      <th>78</th>\n",
       "      <th>79</th>\n",
       "      <th>80</th>\n",
       "      <th>81</th>\n",
       "      <th>82</th>\n",
       "      <th>83</th>\n",
       "      <th>84</th>\n",
       "      <th>target</th>\n",
       "    </tr>\n",
       "  </thead>\n",
       "  <tbody>\n",
       "    <tr>\n",
       "      <th>0</th>\n",
       "      <td>0.680906</td>\n",
       "      <td>-0.27258</td>\n",
       "      <td>0.406697</td>\n",
       "      <td>-1.216964</td>\n",
       "      <td>0.779405</td>\n",
       "      <td>-0.694311</td>\n",
       "      <td>0.217444</td>\n",
       "      <td>-0.068711</td>\n",
       "      <td>-0.161816</td>\n",
       "      <td>0.427670</td>\n",
       "      <td>...</td>\n",
       "      <td>-0.073165</td>\n",
       "      <td>-0.081055</td>\n",
       "      <td>-0.05992</td>\n",
       "      <td>0.764971</td>\n",
       "      <td>-0.022706</td>\n",
       "      <td>-0.07365</td>\n",
       "      <td>-0.15062</td>\n",
       "      <td>-0.087348</td>\n",
       "      <td>-0.118816</td>\n",
       "      <td>0</td>\n",
       "    </tr>\n",
       "    <tr>\n",
       "      <th>1</th>\n",
       "      <td>0.992297</td>\n",
       "      <td>-0.27258</td>\n",
       "      <td>-0.859500</td>\n",
       "      <td>-1.216964</td>\n",
       "      <td>0.779405</td>\n",
       "      <td>0.302552</td>\n",
       "      <td>-0.365410</td>\n",
       "      <td>-0.068711</td>\n",
       "      <td>0.464159</td>\n",
       "      <td>-0.096077</td>\n",
       "      <td>...</td>\n",
       "      <td>-0.073165</td>\n",
       "      <td>-0.081055</td>\n",
       "      <td>-0.05992</td>\n",
       "      <td>0.764971</td>\n",
       "      <td>-0.022706</td>\n",
       "      <td>-0.07365</td>\n",
       "      <td>-0.15062</td>\n",
       "      <td>-0.087348</td>\n",
       "      <td>-0.118816</td>\n",
       "      <td>0</td>\n",
       "    </tr>\n",
       "    <tr>\n",
       "      <th>2</th>\n",
       "      <td>0.992297</td>\n",
       "      <td>-0.27258</td>\n",
       "      <td>-0.859500</td>\n",
       "      <td>-1.216964</td>\n",
       "      <td>0.779405</td>\n",
       "      <td>-0.694311</td>\n",
       "      <td>-0.365410</td>\n",
       "      <td>0.914172</td>\n",
       "      <td>0.464159</td>\n",
       "      <td>-1.667319</td>\n",
       "      <td>...</td>\n",
       "      <td>-0.073165</td>\n",
       "      <td>-0.081055</td>\n",
       "      <td>-0.05992</td>\n",
       "      <td>0.764971</td>\n",
       "      <td>-0.022706</td>\n",
       "      <td>-0.07365</td>\n",
       "      <td>-0.15062</td>\n",
       "      <td>-0.087348</td>\n",
       "      <td>-0.118816</td>\n",
       "      <td>0</td>\n",
       "    </tr>\n",
       "    <tr>\n",
       "      <th>3</th>\n",
       "      <td>-1.187437</td>\n",
       "      <td>-0.27258</td>\n",
       "      <td>0.406697</td>\n",
       "      <td>0.010755</td>\n",
       "      <td>-0.970980</td>\n",
       "      <td>1.299414</td>\n",
       "      <td>-0.948264</td>\n",
       "      <td>0.914172</td>\n",
       "      <td>0.464159</td>\n",
       "      <td>-0.619824</td>\n",
       "      <td>...</td>\n",
       "      <td>-0.073165</td>\n",
       "      <td>-0.081055</td>\n",
       "      <td>-0.05992</td>\n",
       "      <td>0.764971</td>\n",
       "      <td>-0.022706</td>\n",
       "      <td>-0.07365</td>\n",
       "      <td>-0.15062</td>\n",
       "      <td>-0.087348</td>\n",
       "      <td>-0.118816</td>\n",
       "      <td>0</td>\n",
       "    </tr>\n",
       "    <tr>\n",
       "      <th>4</th>\n",
       "      <td>1.225840</td>\n",
       "      <td>-0.27258</td>\n",
       "      <td>1.672893</td>\n",
       "      <td>-1.216964</td>\n",
       "      <td>1.479559</td>\n",
       "      <td>0.302552</td>\n",
       "      <td>-0.365410</td>\n",
       "      <td>-0.068711</td>\n",
       "      <td>0.464159</td>\n",
       "      <td>0.427670</td>\n",
       "      <td>...</td>\n",
       "      <td>-0.073165</td>\n",
       "      <td>-0.081055</td>\n",
       "      <td>-0.05992</td>\n",
       "      <td>0.764971</td>\n",
       "      <td>-0.022706</td>\n",
       "      <td>-0.07365</td>\n",
       "      <td>-0.15062</td>\n",
       "      <td>-0.087348</td>\n",
       "      <td>-0.118816</td>\n",
       "      <td>0</td>\n",
       "    </tr>\n",
       "    <tr>\n",
       "      <th>...</th>\n",
       "      <td>...</td>\n",
       "      <td>...</td>\n",
       "      <td>...</td>\n",
       "      <td>...</td>\n",
       "      <td>...</td>\n",
       "      <td>...</td>\n",
       "      <td>...</td>\n",
       "      <td>...</td>\n",
       "      <td>...</td>\n",
       "      <td>...</td>\n",
       "      <td>...</td>\n",
       "      <td>...</td>\n",
       "      <td>...</td>\n",
       "      <td>...</td>\n",
       "      <td>...</td>\n",
       "      <td>...</td>\n",
       "      <td>...</td>\n",
       "      <td>...</td>\n",
       "      <td>...</td>\n",
       "      <td>...</td>\n",
       "      <td>...</td>\n",
       "    </tr>\n",
       "    <tr>\n",
       "      <th>5817</th>\n",
       "      <td>0.914449</td>\n",
       "      <td>-0.27258</td>\n",
       "      <td>-2.125697</td>\n",
       "      <td>-1.216964</td>\n",
       "      <td>0.779405</td>\n",
       "      <td>-0.694311</td>\n",
       "      <td>0.800298</td>\n",
       "      <td>-0.068711</td>\n",
       "      <td>-0.787790</td>\n",
       "      <td>-2.714813</td>\n",
       "      <td>...</td>\n",
       "      <td>-0.073165</td>\n",
       "      <td>-0.081055</td>\n",
       "      <td>-0.05992</td>\n",
       "      <td>0.764971</td>\n",
       "      <td>-0.022706</td>\n",
       "      <td>-0.07365</td>\n",
       "      <td>-0.15062</td>\n",
       "      <td>-0.087348</td>\n",
       "      <td>-0.118816</td>\n",
       "      <td>0</td>\n",
       "    </tr>\n",
       "    <tr>\n",
       "      <th>5818</th>\n",
       "      <td>0.836602</td>\n",
       "      <td>-0.27258</td>\n",
       "      <td>1.672893</td>\n",
       "      <td>1.238473</td>\n",
       "      <td>0.779405</td>\n",
       "      <td>0.302552</td>\n",
       "      <td>-0.365410</td>\n",
       "      <td>-0.068711</td>\n",
       "      <td>0.464159</td>\n",
       "      <td>-0.096077</td>\n",
       "      <td>...</td>\n",
       "      <td>-0.073165</td>\n",
       "      <td>-0.081055</td>\n",
       "      <td>-0.05992</td>\n",
       "      <td>0.764971</td>\n",
       "      <td>-0.022706</td>\n",
       "      <td>-0.07365</td>\n",
       "      <td>-0.15062</td>\n",
       "      <td>-0.087348</td>\n",
       "      <td>-0.118816</td>\n",
       "      <td>0</td>\n",
       "    </tr>\n",
       "    <tr>\n",
       "      <th>5819</th>\n",
       "      <td>0.680906</td>\n",
       "      <td>-0.27258</td>\n",
       "      <td>0.406697</td>\n",
       "      <td>1.238473</td>\n",
       "      <td>0.779405</td>\n",
       "      <td>-0.694311</td>\n",
       "      <td>0.800298</td>\n",
       "      <td>-1.051594</td>\n",
       "      <td>-0.161816</td>\n",
       "      <td>-0.619824</td>\n",
       "      <td>...</td>\n",
       "      <td>-0.073165</td>\n",
       "      <td>-0.081055</td>\n",
       "      <td>-0.05992</td>\n",
       "      <td>0.764971</td>\n",
       "      <td>-0.022706</td>\n",
       "      <td>-0.07365</td>\n",
       "      <td>-0.15062</td>\n",
       "      <td>-0.087348</td>\n",
       "      <td>-0.118816</td>\n",
       "      <td>1</td>\n",
       "    </tr>\n",
       "    <tr>\n",
       "      <th>5820</th>\n",
       "      <td>0.758754</td>\n",
       "      <td>-0.27258</td>\n",
       "      <td>0.406697</td>\n",
       "      <td>-1.216964</td>\n",
       "      <td>0.779405</td>\n",
       "      <td>-0.694311</td>\n",
       "      <td>1.383152</td>\n",
       "      <td>-1.051594</td>\n",
       "      <td>-0.787790</td>\n",
       "      <td>0.427670</td>\n",
       "      <td>...</td>\n",
       "      <td>-0.073165</td>\n",
       "      <td>-0.081055</td>\n",
       "      <td>-0.05992</td>\n",
       "      <td>-1.014358</td>\n",
       "      <td>-0.022706</td>\n",
       "      <td>-0.07365</td>\n",
       "      <td>-0.15062</td>\n",
       "      <td>-0.087348</td>\n",
       "      <td>-0.118816</td>\n",
       "      <td>0</td>\n",
       "    </tr>\n",
       "    <tr>\n",
       "      <th>5821</th>\n",
       "      <td>0.680906</td>\n",
       "      <td>-0.27258</td>\n",
       "      <td>0.406697</td>\n",
       "      <td>0.010755</td>\n",
       "      <td>0.779405</td>\n",
       "      <td>-0.694311</td>\n",
       "      <td>0.800298</td>\n",
       "      <td>-0.068711</td>\n",
       "      <td>-0.787790</td>\n",
       "      <td>0.427670</td>\n",
       "      <td>...</td>\n",
       "      <td>-0.073165</td>\n",
       "      <td>-0.081055</td>\n",
       "      <td>-0.05992</td>\n",
       "      <td>-1.014358</td>\n",
       "      <td>-0.022706</td>\n",
       "      <td>-0.07365</td>\n",
       "      <td>-0.15062</td>\n",
       "      <td>-0.087348</td>\n",
       "      <td>-0.118816</td>\n",
       "      <td>0</td>\n",
       "    </tr>\n",
       "  </tbody>\n",
       "</table>\n",
       "<p>5822 rows × 86 columns</p>\n",
       "</div>"
      ],
      "text/plain": [
       "             0        1         2         3         4         5         6   \n",
       "0     0.680906 -0.27258  0.406697 -1.216964  0.779405 -0.694311  0.217444  \\\n",
       "1     0.992297 -0.27258 -0.859500 -1.216964  0.779405  0.302552 -0.365410   \n",
       "2     0.992297 -0.27258 -0.859500 -1.216964  0.779405 -0.694311 -0.365410   \n",
       "3    -1.187437 -0.27258  0.406697  0.010755 -0.970980  1.299414 -0.948264   \n",
       "4     1.225840 -0.27258  1.672893 -1.216964  1.479559  0.302552 -0.365410   \n",
       "...        ...      ...       ...       ...       ...       ...       ...   \n",
       "5817  0.914449 -0.27258 -2.125697 -1.216964  0.779405 -0.694311  0.800298   \n",
       "5818  0.836602 -0.27258  1.672893  1.238473  0.779405  0.302552 -0.365410   \n",
       "5819  0.680906 -0.27258  0.406697  1.238473  0.779405 -0.694311  0.800298   \n",
       "5820  0.758754 -0.27258  0.406697 -1.216964  0.779405 -0.694311  1.383152   \n",
       "5821  0.680906 -0.27258  0.406697  0.010755  0.779405 -0.694311  0.800298   \n",
       "\n",
       "             7         8         9  ...        76        77       78   \n",
       "0    -0.068711 -0.161816  0.427670  ... -0.073165 -0.081055 -0.05992  \\\n",
       "1    -0.068711  0.464159 -0.096077  ... -0.073165 -0.081055 -0.05992   \n",
       "2     0.914172  0.464159 -1.667319  ... -0.073165 -0.081055 -0.05992   \n",
       "3     0.914172  0.464159 -0.619824  ... -0.073165 -0.081055 -0.05992   \n",
       "4    -0.068711  0.464159  0.427670  ... -0.073165 -0.081055 -0.05992   \n",
       "...        ...       ...       ...  ...       ...       ...      ...   \n",
       "5817 -0.068711 -0.787790 -2.714813  ... -0.073165 -0.081055 -0.05992   \n",
       "5818 -0.068711  0.464159 -0.096077  ... -0.073165 -0.081055 -0.05992   \n",
       "5819 -1.051594 -0.161816 -0.619824  ... -0.073165 -0.081055 -0.05992   \n",
       "5820 -1.051594 -0.787790  0.427670  ... -0.073165 -0.081055 -0.05992   \n",
       "5821 -0.068711 -0.787790  0.427670  ... -0.073165 -0.081055 -0.05992   \n",
       "\n",
       "            79        80       81       82        83        84  target  \n",
       "0     0.764971 -0.022706 -0.07365 -0.15062 -0.087348 -0.118816       0  \n",
       "1     0.764971 -0.022706 -0.07365 -0.15062 -0.087348 -0.118816       0  \n",
       "2     0.764971 -0.022706 -0.07365 -0.15062 -0.087348 -0.118816       0  \n",
       "3     0.764971 -0.022706 -0.07365 -0.15062 -0.087348 -0.118816       0  \n",
       "4     0.764971 -0.022706 -0.07365 -0.15062 -0.087348 -0.118816       0  \n",
       "...        ...       ...      ...      ...       ...       ...     ...  \n",
       "5817  0.764971 -0.022706 -0.07365 -0.15062 -0.087348 -0.118816       0  \n",
       "5818  0.764971 -0.022706 -0.07365 -0.15062 -0.087348 -0.118816       0  \n",
       "5819  0.764971 -0.022706 -0.07365 -0.15062 -0.087348 -0.118816       1  \n",
       "5820 -1.014358 -0.022706 -0.07365 -0.15062 -0.087348 -0.118816       0  \n",
       "5821 -1.014358 -0.022706 -0.07365 -0.15062 -0.087348 -0.118816       0  \n",
       "\n",
       "[5822 rows x 86 columns]"
      ]
     },
     "execution_count": 8,
     "metadata": {},
     "output_type": "execute_result"
    }
   ],
   "source": [
    "X = df.drop('CARAVAN Number of mobile home policies 0 - 1',axis = 1) #feature\n",
    "y = df['CARAVAN Number of mobile home policies 0 - 1'] #target\n",
    "\n",
    "#rescale X\n",
    "x = X.values #nd array\n",
    "stan_scaler = preprocessing.StandardScaler()\n",
    "x_scaled = stan_scaler.fit_transform(x)\n",
    "df = pd.DataFrame(x_scaled)\n",
    "df['target'] = y\n",
    "df"
   ]
  },
  {
   "cell_type": "code",
   "execution_count": 9,
   "id": "c1b8543a",
   "metadata": {},
   "outputs": [],
   "source": [
    "# Logistic regression with Upsampling\n",
    "from sklearn.model_selection import train_test_split\n",
    "from sklearn.linear_model import LogisticRegression\n",
    "from imblearn.over_sampling import SMOTE"
   ]
  },
  {
   "cell_type": "code",
   "execution_count": 10,
   "id": "40326001",
   "metadata": {},
   "outputs": [
    {
     "name": "stdout",
     "output_type": "stream",
     "text": [
      "CARAVAN Number of mobile home policies 0 - 1\n",
      "0    4113\n",
      "1     253\n",
      "Name: count, dtype: int64\n"
     ]
    },
    {
     "data": {
      "text/plain": [
       "CARAVAN Number of mobile home policies 0 - 1\n",
       "0    4113\n",
       "1    4113\n",
       "Name: count, dtype: int64"
      ]
     },
     "execution_count": 10,
     "metadata": {},
     "output_type": "execute_result"
    }
   ],
   "source": [
    "X_train, X_test, y_train, y_test = train_test_split(x_scaled, y, test_size=0.25, random_state=0)\n",
    "print(y_train.value_counts()) # count the numbers of 0 and 1 before sampling\n",
    "smt = SMOTE(random_state = 0)\n",
    "X_train_os, y_train_os = smt.fit_resample(X_train, y_train)\n",
    "y_train_os.value_counts()\n",
    "#print(np.bincount(y_train1)) # count the numbers of 0 and 1 after sampling"
   ]
  },
  {
   "cell_type": "code",
   "execution_count": 11,
   "id": "44aed84c",
   "metadata": {},
   "outputs": [],
   "source": [
    "logreg = LogisticRegression(solver='lbfgs',max_iter=1000) # instantiate the model\n",
    "logreg.fit(X_train_os,y_train_os) # fit the data\n",
    "y_pred = logreg.predict(X_test) \n",
    "#X['MOSTYPE Customer Subtype see L0']"
   ]
  },
  {
   "cell_type": "code",
   "execution_count": 12,
   "id": "0e362c15",
   "metadata": {},
   "outputs": [
    {
     "data": {
      "text/plain": [
       "array([[981, 380],\n",
       "       [ 42,  53]], dtype=int64)"
      ]
     },
     "execution_count": 12,
     "metadata": {},
     "output_type": "execute_result"
    }
   ],
   "source": [
    "# Model evaluation by confusion matrix\n",
    "from sklearn import metrics\n",
    "cnf_matrix = metrics.confusion_matrix(y_test, y_pred)\n",
    "cnf_matrix"
   ]
  },
  {
   "cell_type": "code",
   "execution_count": 13,
   "id": "35a249dc",
   "metadata": {},
   "outputs": [
    {
     "data": {
      "text/plain": [
       "Text(0.5, 23.52222222222222, 'Predicted label')"
      ]
     },
     "execution_count": 13,
     "metadata": {},
     "output_type": "execute_result"
    },
    {
     "data": {
      "image/png": "[encoded data removed]",
      "text/plain": [
       "<Figure size 640x480 with 2 Axes>"
      ]
     },
     "metadata": {},
     "output_type": "display_data"
    }
   ],
   "source": [
    "# Visualize the confusion matrix by using a heatmap\n",
    "%matplotlib inline\n",
    "import numpy as np\n",
    "import matplotlib.pyplot as plt\n",
    "import seaborn as sns\n",
    "\n",
    "sns.heatmap(pd.DataFrame(cnf_matrix), annot=True, cmap=\"YlGnBu\" ,fmt='g')\n",
    "plt.tight_layout()\n",
    "plt.title('Confusion matrix')\n",
    "plt.ylabel('True label')\n",
    "plt.xlabel('Predicted label')"
   ]
  },
  {
   "cell_type": "code",
   "execution_count": 14,
   "id": "11504aeb",
   "metadata": {},
   "outputs": [
    {
     "name": "stdout",
     "output_type": "stream",
     "text": [
      "Accuracy: 0.7101648351648352\n",
      "Precision: 0.12240184757505773\n",
      "Recall: 0.5578947368421052\n"
     ]
    }
   ],
   "source": [
    "# model evaluation by accuracy, precission and Recall\n",
    "print(\"Accuracy:\",metrics.accuracy_score(y_test, y_pred))\n",
    "print(\"Precision:\",metrics.precision_score(y_test, y_pred))\n",
    "print(\"Recall:\",metrics.recall_score(y_test, y_pred))"
   ]
  },
  {
   "cell_type": "markdown",
   "id": "c8c5233f",
   "metadata": {},
   "source": [
    "Out of all predicted as positive, 12 percentage are actually positive (precision), which is significantly better than the 6 perc baseline.\n",
    "Out of all positive cases from the data, 56 percentages are correctly predicted. "
   ]
  },
  {
   "cell_type": "code",
   "execution_count": 15,
   "id": "318bddaa",
   "metadata": {},
   "outputs": [
    {
     "data": {
      "text/plain": [
       "array([[3019, 1094],\n",
       "       [  66,  187]], dtype=int64)"
      ]
     },
     "execution_count": 15,
     "metadata": {},
     "output_type": "execute_result"
    }
   ],
   "source": [
    "y_pred_train = logreg.predict(X_train)\n",
    "cnf_matrix = metrics.confusion_matrix(y_train, y_pred_train)\n",
    "cnf_matrix"
   ]
  },
  {
   "cell_type": "code",
   "execution_count": 16,
   "id": "8d37751a",
   "metadata": {},
   "outputs": [
    {
     "name": "stdout",
     "output_type": "stream",
     "text": [
      "Accuracy: 0.7343105817682088\n",
      "Precision: 0.14597970335675253\n",
      "Recall: 0.7391304347826086\n"
     ]
    }
   ],
   "source": [
    "print(\"Accuracy:\",metrics.accuracy_score(y_train, y_pred_train))\n",
    "print(\"Precision:\",metrics.precision_score(y_train, y_pred_train))\n",
    "print(\"Recall:\",metrics.recall_score(y_train, y_pred_train))"
   ]
  },
  {
   "cell_type": "code",
   "execution_count": 17,
   "id": "5648e6d1",
   "metadata": {},
   "outputs": [],
   "source": [
    "## Tune hyperparameter - Logistic regression doesn't really nead hyperparameter tuining, we do it anayway\n",
    "from sklearn.linear_model import LogisticRegressionCV\n",
    "clf = LogisticRegressionCV(cv=10, random_state=0, max_iter = 100, 1000)\n",
    "clf.fit(X_train_os,y_train_os) # fit the data\n",
    "y_pred = clf.predict(X_test) "
   ]
  },
  {
   "cell_type": "code",
   "execution_count": 18,
   "id": "4a93ec43",
   "metadata": {},
   "outputs": [
    {
     "data": {
      "text/plain": [
       "array([[980, 381],\n",
       "       [ 42,  53]], dtype=int64)"
      ]
     },
     "execution_count": 18,
     "metadata": {},
     "output_type": "execute_result"
    }
   ],
   "source": [
    "cnf_matrix = metrics.confusion_matrix(y_test, y_pred)\n",
    "cnf_matrix"
   ]
  },
  {
   "cell_type": "markdown",
   "id": "94c79832",
   "metadata": {},
   "source": [
    "Hyperparameter tuning (tune the algorethim used, and the strength of regularization) marginally improves the performance."
   ]
  },
  {
   "cell_type": "code",
   "execution_count": 19,
   "id": "09b04c40",
   "metadata": {},
   "outputs": [],
   "source": [
    "## Use Recursive Feature Ellimination - Since we saw many \n",
    "from sklearn.feature_selection import RFE"
   ]
  },
  {
   "cell_type": "code",
   "execution_count": 20,
   "id": "77911327",
   "metadata": {},
   "outputs": [
    {
     "name": "stdout",
     "output_type": "stream",
     "text": [
      "[ True  True False False  True False  True False False  True  True  True\n",
      "  True  True  True False False False False False  True False False False\n",
      "  True False False False False  True  True  True  True  True  True  True\n",
      "  True  True  True  True False False False  True False False  True  True\n",
      " False  True  True False  True False  True False False  True  True False\n",
      " False False False False  True False  True False  True False False  True\n",
      " False False False  True False False  True  True False  True False False\n",
      " False]\n",
      "[ 1  1 40 13  1 37  1 41 36  1  1  1  1  1  1 43 32  7  5 25  1  4 39  6\n",
      "  1 27 28  3 29  1  1  1  1  1  1  1  1  1  1  1 31 30 24  1 18 10  1  1\n",
      " 14  1  1 45  1 16  1 38 33  1  1 23 11 34  8 42  1 46  1 35  1 44 15  1\n",
      " 26 17  2  1 12 20  1  1 22  1 19  9 21]\n"
     ]
    }
   ],
   "source": [
    "#logreg = LogisticRegression()\n",
    "rfe = RFE(logreg, n_features_to_select=40, step=1)\n",
    "rfe = rfe.fit(X_train_os, y_train_os)\n",
    "print(rfe.support_)\n",
    "print(rfe.ranking_)"
   ]
  },
  {
   "cell_type": "code",
   "execution_count": 21,
   "id": "c0aff496",
   "metadata": {},
   "outputs": [
    {
     "name": "stdout",
     "output_type": "stream",
     "text": [
      "(8226,)\n",
      "(1456,)\n"
     ]
    }
   ],
   "source": [
    "print(X_train_os[:,0].shape)\n",
    "print(X_test[:,0].shape)\n",
    "support_list = list(rfe.support_)\n",
    "X_train_rfe = np.empty(shape = (8226, 40))\n",
    "X_test_rfe = np.empty(shape = (1456, 40))\n",
    "#X_test_rfe  = \n",
    "#print(len(support_list))"
   ]
  },
  {
   "cell_type": "code",
   "execution_count": 22,
   "id": "4627b629",
   "metadata": {},
   "outputs": [],
   "source": [
    "j = 0\n",
    "for ind, elem in enumerate(support_list):\n",
    "    if elem == True:\n",
    "        X_train_rfe[:,j] = X_train_os[:,ind]\n",
    "        X_test_rfe[:,j] = X_test[:,ind]\n",
    "        j += 1      "
   ]
  },
  {
   "cell_type": "code",
   "execution_count": 23,
   "id": "43069249",
   "metadata": {},
   "outputs": [
    {
     "data": {
      "text/plain": [
       "(1456, 40)"
      ]
     },
     "execution_count": 23,
     "metadata": {},
     "output_type": "execute_result"
    }
   ],
   "source": [
    "X_test_rfe.shape"
   ]
  },
  {
   "cell_type": "code",
   "execution_count": 24,
   "id": "263bb098",
   "metadata": {},
   "outputs": [
    {
     "data": {
      "text/html": [
       "<style>#sk-container-id-1 {color: black;background-color: white;}#sk-container-id-1 pre{padding: 0;}#sk-container-id-1 div.sk-toggleable {background-color: white;}#sk-container-id-1 label.sk-toggleable__label {cursor: pointer;display: block;width: 100%;margin-bottom: 0;padding: 0.3em;box-sizing: border-box;text-align: center;}#sk-container-id-1 label.sk-toggleable__label-arrow:before {content: \"▸\";float: left;margin-right: 0.25em;color: #696969;}#sk-container-id-1 label.sk-toggleable__label-arrow:hover:before {color: black;}#sk-container-id-1 div.sk-estimator:hover label.sk-toggleable__label-arrow:before {color: black;}#sk-container-id-1 div.sk-toggleable__content {max-height: 0;max-width: 0;overflow: hidden;text-align: left;background-color: #f0f8ff;}#sk-container-id-1 div.sk-toggleable__content pre {margin: 0.2em;color: black;border-radius: 0.25em;background-color: #f0f8ff;}#sk-container-id-1 input.sk-toggleable__control:checked~div.sk-toggleable__content {max-height: 200px;max-width: 100%;overflow: auto;}#sk-container-id-1 input.sk-toggleable__control:checked~label.sk-toggleable__label-arrow:before {content: \"▾\";}#sk-container-id-1 div.sk-estimator input.sk-toggleable__control:checked~label.sk-toggleable__label {background-color: #d4ebff;}#sk-container-id-1 div.sk-label input.sk-toggleable__control:checked~label.sk-toggleable__label {background-color: #d4ebff;}#sk-container-id-1 input.sk-hidden--visually {border: 0;clip: rect(1px 1px 1px 1px);clip: rect(1px, 1px, 1px, 1px);height: 1px;margin: -1px;overflow: hidden;padding: 0;position: absolute;width: 1px;}#sk-container-id-1 div.sk-estimator {font-family: monospace;background-color: #f0f8ff;border: 1px dotted black;border-radius: 0.25em;box-sizing: border-box;margin-bottom: 0.5em;}#sk-container-id-1 div.sk-estimator:hover {background-color: #d4ebff;}#sk-container-id-1 div.sk-parallel-item::after {content: \"\";width: 100%;border-bottom: 1px solid gray;flex-grow: 1;}#sk-container-id-1 div.sk-label:hover label.sk-toggleable__label {background-color: #d4ebff;}#sk-container-id-1 div.sk-serial::before {content: \"\";position: absolute;border-left: 1px solid gray;box-sizing: border-box;top: 0;bottom: 0;left: 50%;z-index: 0;}#sk-container-id-1 div.sk-serial {display: flex;flex-direction: column;align-items: center;background-color: white;padding-right: 0.2em;padding-left: 0.2em;position: relative;}#sk-container-id-1 div.sk-item {position: relative;z-index: 1;}#sk-container-id-1 div.sk-parallel {display: flex;align-items: stretch;justify-content: center;background-color: white;position: relative;}#sk-container-id-1 div.sk-item::before, #sk-container-id-1 div.sk-parallel-item::before {content: \"\";position: absolute;border-left: 1px solid gray;box-sizing: border-box;top: 0;bottom: 0;left: 50%;z-index: -1;}#sk-container-id-1 div.sk-parallel-item {display: flex;flex-direction: column;z-index: 1;position: relative;background-color: white;}#sk-container-id-1 div.sk-parallel-item:first-child::after {align-self: flex-end;width: 50%;}#sk-container-id-1 div.sk-parallel-item:last-child::after {align-self: flex-start;width: 50%;}#sk-container-id-1 div.sk-parallel-item:only-child::after {width: 0;}#sk-container-id-1 div.sk-dashed-wrapped {border: 1px dashed gray;margin: 0 0.4em 0.5em 0.4em;box-sizing: border-box;padding-bottom: 0.4em;background-color: white;}#sk-container-id-1 div.sk-label label {font-family: monospace;font-weight: bold;display: inline-block;line-height: 1.2em;}#sk-container-id-1 div.sk-label-container {text-align: center;}#sk-container-id-1 div.sk-container {/* jupyter's `normalize.less` sets `[hidden] { display: none; }` but bootstrap.min.css set `[hidden] { display: none !important; }` so we also need the `!important` here to be able to override the default hidden behavior on the sphinx rendered scikit-learn.org. See: https://github.com/scikit-learn/scikit-learn/issues/21755 */display: inline-block !important;position: relative;}#sk-container-id-1 div.sk-text-repr-fallback {display: none;}</style><div id=\"sk-container-id-1\" class=\"sk-top-container\"><div class=\"sk-text-repr-fallback\"><pre>LogisticRegression(max_iter=1000)</pre><b>In a Jupyter environment, please rerun this cell to show the HTML representation or trust the notebook. <br />On GitHub, the HTML representation is unable to render, please try loading this page with nbviewer.org.</b></div><div class=\"sk-container\" hidden><div class=\"sk-item\"><div class=\"sk-estimator sk-toggleable\"><input class=\"sk-toggleable__control sk-hidden--visually\" id=\"sk-estimator-id-1\" type=\"checkbox\" checked><label for=\"sk-estimator-id-1\" class=\"sk-toggleable__label sk-toggleable__label-arrow\">LogisticRegression</label><div class=\"sk-toggleable__content\"><pre>LogisticRegression(max_iter=1000)</pre></div></div></div></div></div>"
      ],
      "text/plain": [
       "LogisticRegression(max_iter=1000)"
      ]
     },
     "execution_count": 24,
     "metadata": {},
     "output_type": "execute_result"
    }
   ],
   "source": [
    "logreg.fit(X_train_rfe, y_train_os) # fit the data"
   ]
  },
  {
   "cell_type": "code",
   "execution_count": 25,
   "id": "629e8417",
   "metadata": {},
   "outputs": [],
   "source": [
    "y_pred = logreg.predict(X_test_rfe) "
   ]
  },
  {
   "cell_type": "code",
   "execution_count": 26,
   "id": "fe116283",
   "metadata": {},
   "outputs": [
    {
     "data": {
      "text/plain": [
       "array([[962, 399],\n",
       "       [ 42,  53]], dtype=int64)"
      ]
     },
     "execution_count": 26,
     "metadata": {},
     "output_type": "execute_result"
    }
   ],
   "source": [
    "cnf_matrix = metrics.confusion_matrix(y_test, y_pred)\n",
    "cnf_matrix"
   ]
  },
  {
   "cell_type": "code",
   "execution_count": 27,
   "id": "e4d5433d",
   "metadata": {},
   "outputs": [
    {
     "name": "stdout",
     "output_type": "stream",
     "text": [
      "Accuracy: 0.6971153846153846\n",
      "Precision: 0.1172566371681416\n",
      "Recall: 0.5578947368421052\n"
     ]
    }
   ],
   "source": [
    "# model evaluation by accuracy, precission and Recall\n",
    "print(\"Accuracy:\",metrics.accuracy_score(y_test, y_pred))\n",
    "print(\"Precision:\",metrics.precision_score(y_test, y_pred))\n",
    "print(\"Recall:\",metrics.recall_score(y_test, y_pred))"
   ]
  },
  {
   "cell_type": "markdown",
   "id": "5a257f9a",
   "metadata": {},
   "source": [
    "Performes slightly worse, I tried different values (from 4 to 40) for the no.s of features, none of them improve performance."
   ]
  },
  {
   "cell_type": "code",
   "execution_count": 28,
   "id": "1873f838",
   "metadata": {},
   "outputs": [],
   "source": [
    "## Neural Network"
   ]
  },
  {
   "cell_type": "code",
   "execution_count": 29,
   "id": "0c7ebb63",
   "metadata": {},
   "outputs": [],
   "source": [
    "import numpy as np\n",
    "import tensorflow as tf\n",
    "from tensorflow.keras.models import Sequential\n",
    "from tensorflow.keras.layers import Dense\n",
    "from tensorflow.keras.activations import linear, relu, sigmoid"
   ]
  },
  {
   "cell_type": "code",
   "execution_count": 30,
   "id": "dbbc52ac",
   "metadata": {},
   "outputs": [],
   "source": [
    "tf.random.set_seed(1234) # for consistent results"
   ]
  },
  {
   "cell_type": "code",
   "execution_count": 31,
   "id": "86f79011",
   "metadata": {},
   "outputs": [],
   "source": [
    "# model architeture\n",
    "model = Sequential(\n",
    "    [ \n",
    "        Dense(80, activation = 'relu'),\n",
    "        Dense(40, activation = 'relu'),\n",
    "        Dense(1, activation = 'sigmoid'), \n",
    "    ])\n",
    "\n",
    "#model.summary()"
   ]
  },
  {
   "cell_type": "code",
   "execution_count": 32,
   "id": "0ed3a424",
   "metadata": {},
   "outputs": [],
   "source": [
    "# compile\n",
    "model.compile(\n",
    "    loss=tf.keras.losses.BinaryCrossentropy(),\n",
    "    optimizer=tf.keras.optimizers.Adam(learning_rate=0.001),\n",
    ") #0.001 is actually the default value"
   ]
  },
  {
   "cell_type": "code",
   "execution_count": 33,
   "id": "d571004a",
   "metadata": {},
   "outputs": [
    {
     "name": "stdout",
     "output_type": "stream",
     "text": [
      "Epoch 1/20\n",
      "129/129 [==============================] - 2s 3ms/step - loss: 0.5201\n",
      "Epoch 2/20\n",
      "129/129 [==============================] - 0s 3ms/step - loss: 0.3740\n",
      "Epoch 3/20\n",
      "129/129 [==============================] - 0s 3ms/step - loss: 0.2929\n",
      "Epoch 4/20\n",
      "129/129 [==============================] - 0s 3ms/step - loss: 0.2341\n",
      "Epoch 5/20\n",
      "129/129 [==============================] - 0s 3ms/step - loss: 0.1905\n",
      "Epoch 6/20\n",
      "129/129 [==============================] - 0s 4ms/step - loss: 0.1543\n",
      "Epoch 7/20\n",
      "129/129 [==============================] - 0s 3ms/step - loss: 0.1324\n",
      "Epoch 8/20\n",
      "129/129 [==============================] - 0s 3ms/step - loss: 0.1117\n",
      "Epoch 9/20\n",
      "129/129 [==============================] - 0s 4ms/step - loss: 0.0983\n",
      "Epoch 10/20\n",
      "129/129 [==============================] - 0s 3ms/step - loss: 0.0858\n",
      "Epoch 11/20\n",
      "129/129 [==============================] - 0s 3ms/step - loss: 0.0787\n",
      "Epoch 12/20\n",
      "129/129 [==============================] - 0s 3ms/step - loss: 0.0688\n",
      "Epoch 13/20\n",
      "129/129 [==============================] - 0s 4ms/step - loss: 0.0682\n",
      "Epoch 14/20\n",
      "129/129 [==============================] - 0s 3ms/step - loss: 0.0606\n",
      "Epoch 15/20\n",
      "129/129 [==============================] - 0s 3ms/step - loss: 0.0559\n",
      "Epoch 16/20\n",
      "129/129 [==============================] - 0s 3ms/step - loss: 0.0520\n",
      "Epoch 17/20\n",
      "129/129 [==============================] - 0s 4ms/step - loss: 0.0457\n",
      "Epoch 18/20\n",
      "129/129 [==============================] - 0s 4ms/step - loss: 0.0455\n",
      "Epoch 19/20\n",
      "129/129 [==============================] - 0s 3ms/step - loss: 0.0443\n",
      "Epoch 20/20\n",
      "129/129 [==============================] - 0s 4ms/step - loss: 0.0478\n"
     ]
    }
   ],
   "source": [
    "# fit\n",
    "history = model.fit(X_train_os, y_train_os, epochs=20, batch_size = 64)"
   ]
  },
  {
   "cell_type": "code",
   "execution_count": 34,
   "id": "193a2463",
   "metadata": {},
   "outputs": [],
   "source": [
    "#def create_baseline(loss = tf.keras.losses.BinaryCrossentropy(from_logits=True), \\\n",
    "#                    optimizer = tf.keras.optimizers.Adam(learning_rate=0.001)):\n",
    "    \n",
    "#    model = Sequential()\n",
    "#    model.add(Dense(40, activation='relu', input_dim=n_cols))\n",
    "#    model.add(Dense(20, activation='relu'))\n",
    "#    model.add(Dense(1, activation='linear'))\n",
    "    \n",
    "#    model.compile(loss=loss, optimizer=optimizer, metrics=['accuracy']) \n",
    "#    return model"
   ]
  },
  {
   "cell_type": "code",
   "execution_count": 35,
   "id": "8448c33f",
   "metadata": {},
   "outputs": [
    {
     "name": "stdout",
     "output_type": "stream",
     "text": [
      "46/46 [==============================] - 0s 2ms/step\n",
      "[[1258  103]\n",
      " [  75   20]]\n",
      "Accuracy: 0.8777472527472527\n",
      "Precision: 0.16260162601626016\n",
      "Recall: 0.21052631578947367\n"
     ]
    }
   ],
   "source": [
    "y_pred = (model.predict(X_test) > 0.5).astype(\"int32\")\n",
    "cm = metrics.confusion_matrix(y_test, y_pred)\n",
    "print(cm)\n",
    "print(\"Accuracy:\",metrics.accuracy_score(y_test, y_pred))\n",
    "print(\"Precision:\",metrics.precision_score(y_test, y_pred))\n",
    "print(\"Recall:\",metrics.recall_score(y_test, y_pred))"
   ]
  },
  {
   "cell_type": "code",
   "execution_count": 36,
   "id": "15b4c5d5",
   "metadata": {},
   "outputs": [
    {
     "name": "stdout",
     "output_type": "stream",
     "text": [
      "137/137 [==============================] - 0s 2ms/step\n",
      "[[4027   86]\n",
      " [   5  248]]\n",
      "Accuracy: 0.9791571232249199\n",
      "Precision: 0.7425149700598802\n",
      "Recall: 0.9802371541501976\n"
     ]
    }
   ],
   "source": [
    "y_pred = (model.predict(X_train) > 0.5).astype(\"int32\")\n",
    "cm = metrics.confusion_matrix(y_train, y_pred)\n",
    "#print(y_pred)\n",
    "## calculate model performance\n",
    "cm = metrics.confusion_matrix(y_train, y_pred)\n",
    "print(cm)\n",
    "print(\"Accuracy:\",metrics.accuracy_score(y_train, y_pred))\n",
    "print(\"Precision:\",metrics.precision_score(y_train, y_pred))\n",
    "print(\"Recall:\",metrics.recall_score(y_train, y_pred))"
   ]
  },
  {
   "cell_type": "markdown",
   "id": "ad769af8",
   "metadata": {},
   "source": [
    " It shows overfitting, lets plot the loss (J) (for both train and test) as a function of time. We expect a higher loss for the test data."
   ]
  },
  {
   "cell_type": "code",
   "execution_count": 37,
   "id": "86246fb4",
   "metadata": {},
   "outputs": [
    {
     "data": {
      "text/plain": [
       "[0.5201407670974731,\n",
       " 0.3739963173866272,\n",
       " 0.29294097423553467,\n",
       " 0.23412832617759705,\n",
       " 0.19051694869995117,\n",
       " 0.15428388118743896,\n",
       " 0.1324107050895691,\n",
       " 0.11168496310710907,\n",
       " 0.09834987670183182,\n",
       " 0.08580894768238068,\n",
       " 0.07873447239398956,\n",
       " 0.06877138465642929,\n",
       " 0.0682087317109108,\n",
       " 0.06064306199550629,\n",
       " 0.05592813715338707,\n",
       " 0.052024755626916885,\n",
       " 0.04567667841911316,\n",
       " 0.045518822968006134,\n",
       " 0.0443032942712307,\n",
       " 0.04784354567527771]"
      ]
     },
     "execution_count": 37,
     "metadata": {},
     "output_type": "execute_result"
    }
   ],
   "source": [
    "train_loss = history.history['loss']\n",
    "train_loss\n",
    "#val_acc = history.history['val_acc']\n",
    "#loss = history.history['loss']\n",
    "#val_loss = history.history['val_loss']"
   ]
  },
  {
   "cell_type": "code",
   "execution_count": 38,
   "id": "3b293e09",
   "metadata": {},
   "outputs": [
    {
     "data": {
      "text/plain": [
       "[<matplotlib.lines.Line2D at 0x1835aa76820>]"
      ]
     },
     "execution_count": 38,
     "metadata": {},
     "output_type": "execute_result"
    },
    {
     "data": {
      "image/png": "[encoded data removed]",
      "text/plain": [
       "<Figure size 640x480 with 1 Axes>"
      ]
     },
     "metadata": {},
     "output_type": "display_data"
    }
   ],
   "source": [
    "epo = range(20)\n",
    "plt.plot(epo, train_loss)"
   ]
  },
  {
   "cell_type": "code",
   "execution_count": 39,
   "id": "ec265208",
   "metadata": {},
   "outputs": [],
   "source": [
    "## grid search CV\n",
    "epochs = [10, 20, 30]\n",
    "rate = [0.0005, 0.001, 0.005]"
   ]
  },
  {
   "cell_type": "code",
   "execution_count": 40,
   "id": "5a757a8f",
   "metadata": {},
   "outputs": [],
   "source": [
    "#from scikeras.wrappers import KerasClassifier\n",
    "from tensorflow.keras.wrappers.scikit_learn import KerasClassifier\n",
    "from sklearn.model_selection import GridSearchCV\n",
    "#from time import time"
   ]
  },
  {
   "cell_type": "code",
   "execution_count": 41,
   "id": "ba3abb61",
   "metadata": {},
   "outputs": [],
   "source": [
    "def create_baseline(optimizer):\n",
    "    model = Sequential()\n",
    "    model.add(Dense(80, activation = 'relu'))\n",
    "    model.add(Dense(40, activation = 'relu'))\n",
    "    model.add(Dense(20, activation = 'relu'))\n",
    "    model.add(Dense(1, activation = 'sigmoid'))\n",
    "    \n",
    "    model.compile(loss=tf.keras.losses.BinaryCrossentropy(), optimizer=optimizer)\n",
    "    \n",
    "    return model"
   ]
  },
  {
   "cell_type": "code",
   "execution_count": 42,
   "id": "a0bc95ac",
   "metadata": {},
   "outputs": [
    {
     "name": "stderr",
     "output_type": "stream",
     "text": [
      "C:\\Users\\sbnad\\AppData\\Local\\Temp\\ipykernel_7788\\1426700400.py:1: DeprecationWarning: KerasClassifier is deprecated, use Sci-Keras (https://github.com/adriangb/scikeras) instead. See https://www.adriangb.com/scikeras/stable/migration.html for help migrating.\n",
      "  base_model = KerasClassifier(build_fn=create_baseline, verbose = 0)\n"
     ]
    }
   ],
   "source": [
    "base_model = KerasClassifier(build_fn=create_baseline, verbose = 0)"
   ]
  },
  {
   "cell_type": "code",
   "execution_count": 43,
   "id": "e54e7053",
   "metadata": {},
   "outputs": [
    {
     "name": "stdout",
     "output_type": "stream",
     "text": [
      "52/52 [==============================] - 0s 2ms/step\n",
      "52/52 [==============================] - 0s 3ms/step\n",
      "52/52 [==============================] - 0s 3ms/step\n",
      "52/52 [==============================] - 0s 3ms/step\n",
      "52/52 [==============================] - 0s 2ms/step\n",
      "52/52 [==============================] - 0s 2ms/step\n",
      "52/52 [==============================] - 0s 3ms/step\n",
      "52/52 [==============================] - 0s 3ms/step\n",
      "52/52 [==============================] - 0s 2ms/step\n",
      "52/52 [==============================] - 0s 3ms/step\n",
      "52/52 [==============================] - 0s 3ms/step\n",
      "52/52 [==============================] - 0s 2ms/step\n",
      "52/52 [==============================] - 0s 2ms/step\n",
      "52/52 [==============================] - 0s 4ms/step\n",
      "52/52 [==============================] - 0s 3ms/step\n",
      "52/52 [==============================] - 0s 2ms/step\n",
      "52/52 [==============================] - 0s 3ms/step\n",
      "52/52 [==============================] - 0s 2ms/step\n",
      "52/52 [==============================] - 0s 3ms/step\n",
      "52/52 [==============================] - 0s 2ms/step\n",
      "52/52 [==============================] - 0s 2ms/step\n",
      "52/52 [==============================] - 0s 3ms/step\n",
      "52/52 [==============================] - 0s 3ms/step\n",
      "52/52 [==============================] - 0s 2ms/step\n",
      "52/52 [==============================] - 0s 2ms/step\n",
      "52/52 [==============================] - 0s 2ms/step\n",
      "52/52 [==============================] - 0s 2ms/step\n",
      "52/52 [==============================] - 0s 2ms/step\n",
      "52/52 [==============================] - 0s 2ms/step\n",
      "52/52 [==============================] - 0s 2ms/step\n",
      "52/52 [==============================] - 0s 3ms/step\n",
      "52/52 [==============================] - 0s 2ms/step\n",
      "52/52 [==============================] - 0s 2ms/step\n",
      "52/52 [==============================] - 0s 2ms/step\n",
      "52/52 [==============================] - 0s 2ms/step\n",
      "52/52 [==============================] - 0s 2ms/step\n",
      "52/52 [==============================] - 0s 2ms/step\n",
      "52/52 [==============================] - 0s 3ms/step\n",
      "52/52 [==============================] - 0s 2ms/step\n",
      "52/52 [==============================] - 0s 3ms/step\n",
      "52/52 [==============================] - 0s 2ms/step\n",
      "52/52 [==============================] - 0s 2ms/step\n",
      "52/52 [==============================] - 0s 3ms/step\n",
      "52/52 [==============================] - 0s 2ms/step\n",
      "52/52 [==============================] - 0s 2ms/step\n",
      "52/52 [==============================] - 0s 2ms/step\n",
      "52/52 [==============================] - 0s 2ms/step\n",
      "52/52 [==============================] - 0s 2ms/step\n",
      "52/52 [==============================] - 0s 2ms/step\n",
      "52/52 [==============================] - 0s 2ms/step\n",
      "52/52 [==============================] - 0s 2ms/step\n",
      "52/52 [==============================] - 0s 3ms/step\n",
      "52/52 [==============================] - 0s 2ms/step\n",
      "52/52 [==============================] - 0s 2ms/step\n",
      "52/52 [==============================] - 0s 3ms/step\n",
      "52/52 [==============================] - 0s 3ms/step\n",
      "52/52 [==============================] - 0s 2ms/step\n",
      "52/52 [==============================] - 0s 2ms/step\n",
      "52/52 [==============================] - 0s 2ms/step\n",
      "52/52 [==============================] - 0s 2ms/step\n",
      "52/52 [==============================] - 0s 2ms/step\n",
      "52/52 [==============================] - 0s 2ms/step\n",
      "52/52 [==============================] - 0s 2ms/step\n",
      "52/52 [==============================] - 0s 3ms/step\n",
      "52/52 [==============================] - 0s 3ms/step\n",
      "52/52 [==============================] - 0s 3ms/step\n",
      "52/52 [==============================] - 0s 3ms/step\n",
      "52/52 [==============================] - 0s 2ms/step\n",
      "52/52 [==============================] - 0s 3ms/step\n",
      "52/52 [==============================] - 0s 2ms/step\n",
      "52/52 [==============================] - 0s 2ms/step\n",
      "52/52 [==============================] - 0s 2ms/step\n",
      "52/52 [==============================] - 0s 3ms/step\n",
      "52/52 [==============================] - 0s 3ms/step\n",
      "52/52 [==============================] - 0s 3ms/step\n",
      "52/52 [==============================] - 0s 2ms/step\n",
      "52/52 [==============================] - 0s 2ms/step\n",
      "52/52 [==============================] - 0s 2ms/step\n",
      "52/52 [==============================] - 0s 2ms/step\n",
      "52/52 [==============================] - 0s 2ms/step\n",
      "52/52 [==============================] - 0s 2ms/step\n",
      "52/52 [==============================] - 0s 3ms/step\n",
      "52/52 [==============================] - 0s 2ms/step\n",
      "52/52 [==============================] - 0s 2ms/step\n",
      "52/52 [==============================] - 0s 3ms/step\n",
      "52/52 [==============================] - 0s 2ms/step\n",
      "52/52 [==============================] - 0s 2ms/step\n",
      "52/52 [==============================] - 0s 2ms/step\n",
      "52/52 [==============================] - 0s 3ms/step\n",
      "52/52 [==============================] - 0s 2ms/step\n"
     ]
    }
   ],
   "source": [
    "parameters = {'batch_size': [32, 64, 128],\n",
    "              'epochs': [10, 20, 30],\n",
    "              'optimizer': ['adam', 'rmsprop']}\n",
    "grid_search = GridSearchCV(estimator = base_model,\n",
    "                           param_grid = parameters,\n",
    "                           scoring = 'accuracy',\n",
    "                           cv = 5)\n",
    "grid_search = grid_search.fit(X_train_os, y_train_os, verbose = 0)"
   ]
  },
  {
   "cell_type": "code",
   "execution_count": 44,
   "id": "de1c70f7",
   "metadata": {},
   "outputs": [
    {
     "name": "stdout",
     "output_type": "stream",
     "text": [
      "{'batch_size': 32, 'epochs': 30, 'optimizer': 'rmsprop'}\n",
      "0.9643845815775187\n"
     ]
    }
   ],
   "source": [
    "best_parameters = grid_search.best_params_\n",
    "best_score = grid_search.best_score_\n",
    "print(best_parameters)\n",
    "print(best_score)"
   ]
  },
  {
   "cell_type": "code",
   "execution_count": 45,
   "id": "1a359482",
   "metadata": {},
   "outputs": [
    {
     "name": "stdout",
     "output_type": "stream",
     "text": [
      "Epoch 1/20\n",
      "129/129 [==============================] - 1s 3ms/step - loss: 0.0517\n",
      "Epoch 2/20\n",
      "129/129 [==============================] - 0s 3ms/step - loss: 0.0394\n",
      "Epoch 3/20\n",
      "129/129 [==============================] - 0s 3ms/step - loss: 0.0406\n",
      "Epoch 4/20\n",
      "129/129 [==============================] - 0s 3ms/step - loss: 0.0412\n",
      "Epoch 5/20\n",
      "129/129 [==============================] - 0s 3ms/step - loss: 0.0371\n",
      "Epoch 6/20\n",
      "129/129 [==============================] - 0s 3ms/step - loss: 0.0364\n",
      "Epoch 7/20\n",
      "129/129 [==============================] - 0s 3ms/step - loss: 0.0345\n",
      "Epoch 8/20\n",
      "129/129 [==============================] - 0s 3ms/step - loss: 0.0376\n",
      "Epoch 9/20\n",
      "129/129 [==============================] - 0s 3ms/step - loss: 0.0360\n",
      "Epoch 10/20\n",
      "129/129 [==============================] - 0s 3ms/step - loss: 0.0308\n",
      "Epoch 11/20\n",
      "129/129 [==============================] - 0s 3ms/step - loss: 0.0359\n",
      "Epoch 12/20\n",
      "129/129 [==============================] - 0s 3ms/step - loss: 0.0342\n",
      "Epoch 13/20\n",
      "129/129 [==============================] - 0s 3ms/step - loss: 0.0317\n",
      "Epoch 14/20\n",
      "129/129 [==============================] - 0s 3ms/step - loss: 0.0332\n",
      "Epoch 15/20\n",
      "129/129 [==============================] - 0s 3ms/step - loss: 0.0316\n",
      "Epoch 16/20\n",
      "129/129 [==============================] - 0s 3ms/step - loss: 0.0380\n",
      "Epoch 17/20\n",
      "129/129 [==============================] - 0s 3ms/step - loss: 0.0288\n",
      "Epoch 18/20\n",
      "129/129 [==============================] - 0s 4ms/step - loss: 0.0315\n",
      "Epoch 19/20\n",
      "129/129 [==============================] - 0s 3ms/step - loss: 0.0282\n",
      "Epoch 20/20\n",
      "129/129 [==============================] - 0s 3ms/step - loss: 0.0293\n"
     ]
    }
   ],
   "source": [
    "# compile\n",
    "model.compile(\n",
    "    loss=tf.keras.losses.BinaryCrossentropy(),\n",
    "    optimizer=tf.keras.optimizers.Adam()\n",
    ")\n",
    "\n",
    "history = model.fit(X_train_os, y_train_os, epochs=20, batch_size = 64)"
   ]
  },
  {
   "cell_type": "code",
   "execution_count": 46,
   "id": "fc20be7b",
   "metadata": {},
   "outputs": [
    {
     "name": "stdout",
     "output_type": "stream",
     "text": [
      "46/46 [==============================] - 0s 2ms/step\n",
      "[[1270   91]\n",
      " [  78   17]]\n",
      "Accuracy: 0.8839285714285714\n",
      "Precision: 0.1574074074074074\n",
      "Recall: 0.17894736842105263\n"
     ]
    }
   ],
   "source": [
    "y_pred = (model.predict(X_test) > 0.5).astype(\"int32\")\n",
    "cm = metrics.confusion_matrix(y_test, y_pred)\n",
    "#print(y_pred)\n",
    "## calculate model performance\n",
    "print(cm)\n",
    "print(\"Accuracy:\",metrics.accuracy_score(y_test, y_pred))\n",
    "print(\"Precision:\",metrics.precision_score(y_test, y_pred))\n",
    "print(\"Recall:\",metrics.recall_score(y_test, y_pred))"
   ]
  },
  {
   "cell_type": "markdown",
   "id": "e0d4660f",
   "metadata": {},
   "source": [
    "So the best NN has 89 perc accuracy, 16 perc precision, and recall of 15 perc. A few observations: The training results are much better \n",
    "than the test results suggesting overfitting. I tried to mitigate it by decreasing the size of the neural network,\n",
    "but it did not really work. When can change the network arctiture and the hyperparameters to bring the training \n",
    "efficiency lower, the test results again get extremely bad. In other words, I find a huge performance gap between \n",
    "training and testing. Ideally, I would try to reduce the gap by not overfitting the neural network, but in this case,\n",
    "I do not seem to suceed. Is there a resolution, or I should just accept that this is the limitation of this data and model?"
   ]
  },
  {
   "cell_type": "markdown",
   "id": "4ff09d54",
   "metadata": {},
   "source": [
    "## Other models"
   ]
  },
  {
   "cell_type": "code",
   "execution_count": 1,
   "id": "0b5400ae",
   "metadata": {},
   "outputs": [],
   "source": [
    "#import sys\n",
    "#!{sys.executable} -m pip install xgboost"
   ]
  },
  {
   "cell_type": "code",
   "execution_count": 48,
   "id": "13e21e1f",
   "metadata": {},
   "outputs": [],
   "source": [
    "# Other classifiers\n",
    "from xgboost import XGBClassifier"
   ]
  },
  {
   "cell_type": "code",
   "execution_count": 49,
   "id": "05861603",
   "metadata": {},
   "outputs": [],
   "source": [
    "## I will do GCV for XGB\n",
    "df = pd.DataFrame()\n",
    "n_estimators = [20,50]\n",
    "max_depth = [4,6,8]\n",
    "eta = [0.01, 0.1]\n",
    "param = [[i,j,k] for i in n_estimators for j in max_depth for k in eta]\n",
    "acc, pre, rec = [], [], []\n",
    "acct, pret, rect = [], [], []\n",
    "for para in param:\n",
    "    model = XGBClassifier(n_estimators=para[0], max_depth=para[1], eta=para[2], subsample=0.7, colsample_bytree=0.8)\n",
    "    model.fit(X_train_os, y_train_os)\n",
    "    y_pred = (model.predict(X_train) > 0.5).astype(\"int32\")\n",
    "    #cm = metrics.confusion_matrix(y_train, y_pred)\n",
    "    #print(model)\n",
    "    #print(cm)\n",
    "    #print(\"Accuracy:\",metrics.accuracy_score(y_train, y_pred))\n",
    "    #print(\"Precision:\",metrics.precision_score(y_train, y_pred))\n",
    "    #print(\"Recall:\",metrics.recall_score(y_train, y_pred))\n",
    "    acc.append(metrics.accuracy_score(y_train, y_pred))\n",
    "    pre.append(metrics.precision_score(y_train, y_pred))\n",
    "    rec.append(metrics.recall_score(y_train, y_pred))\n",
    "    \n",
    "    y_pred = (model.predict(X_test) > 0.5).astype(\"int32\")\n",
    "    #cm = metrics.confusion_matrix(y_train, y_pred)\n",
    "    #print(model)\n",
    "    #print(cm)\n",
    "    #print(\"Accuracy:\",metrics.accuracy_score(y_train, y_pred))\n",
    "    #print(\"Precision:\",metrics.precision_score(y_train, y_pred))\n",
    "    #print(\"Recall:\",metrics.recall_score(y_train, y_pred))\n",
    "    acct.append(metrics.accuracy_score(y_test, y_pred))\n",
    "    pret.append(metrics.precision_score(y_test, y_pred))\n",
    "    rect.append(metrics.recall_score(y_test, y_pred))\n",
    "\n",
    "df['params'] = param\n",
    "df['train_accuracy'] = acc\n",
    "df['train_precision'] = pre\n",
    "df['train_recall'] = rec\n",
    "\n",
    "df['test_accuracy'] = acct\n",
    "df['test_precision'] = pret\n",
    "df['test_recall'] = rect"
   ]
  },
  {
   "cell_type": "code",
   "execution_count": 50,
   "id": "b290158c",
   "metadata": {},
   "outputs": [
    {
     "data": {
      "text/html": [
       "<div>\n",
       "<style scoped>\n",
       "    .dataframe tbody tr th:only-of-type {\n",
       "        vertical-align: middle;\n",
       "    }\n",
       "\n",
       "    .dataframe tbody tr th {\n",
       "        vertical-align: top;\n",
       "    }\n",
       "\n",
       "    .dataframe thead th {\n",
       "        text-align: right;\n",
       "    }\n",
       "</style>\n",
       "<table border=\"1\" class=\"dataframe\">\n",
       "  <thead>\n",
       "    <tr style=\"text-align: right;\">\n",
       "      <th></th>\n",
       "      <th>params</th>\n",
       "      <th>train_accuracy</th>\n",
       "      <th>train_precision</th>\n",
       "      <th>train_recall</th>\n",
       "      <th>test_accuracy</th>\n",
       "      <th>test_precision</th>\n",
       "      <th>test_recall</th>\n",
       "    </tr>\n",
       "  </thead>\n",
       "  <tbody>\n",
       "    <tr>\n",
       "      <th>0</th>\n",
       "      <td>[20, 4, 0.01]</td>\n",
       "      <td>0.827073</td>\n",
       "      <td>0.157104</td>\n",
       "      <td>0.454545</td>\n",
       "      <td>0.800824</td>\n",
       "      <td>0.137546</td>\n",
       "      <td>0.389474</td>\n",
       "    </tr>\n",
       "    <tr>\n",
       "      <th>1</th>\n",
       "      <td>[20, 4, 0.1]</td>\n",
       "      <td>0.876088</td>\n",
       "      <td>0.218750</td>\n",
       "      <td>0.442688</td>\n",
       "      <td>0.857830</td>\n",
       "      <td>0.178161</td>\n",
       "      <td>0.326316</td>\n",
       "    </tr>\n",
       "    <tr>\n",
       "      <th>2</th>\n",
       "      <td>[20, 6, 0.01]</td>\n",
       "      <td>0.880440</td>\n",
       "      <td>0.215645</td>\n",
       "      <td>0.403162</td>\n",
       "      <td>0.861264</td>\n",
       "      <td>0.183432</td>\n",
       "      <td>0.326316</td>\n",
       "    </tr>\n",
       "    <tr>\n",
       "      <th>3</th>\n",
       "      <td>[20, 6, 0.1]</td>\n",
       "      <td>0.923500</td>\n",
       "      <td>0.356890</td>\n",
       "      <td>0.399209</td>\n",
       "      <td>0.898352</td>\n",
       "      <td>0.221053</td>\n",
       "      <td>0.221053</td>\n",
       "    </tr>\n",
       "    <tr>\n",
       "      <th>4</th>\n",
       "      <td>[20, 8, 0.01]</td>\n",
       "      <td>0.914567</td>\n",
       "      <td>0.317073</td>\n",
       "      <td>0.411067</td>\n",
       "      <td>0.885989</td>\n",
       "      <td>0.196581</td>\n",
       "      <td>0.242105</td>\n",
       "    </tr>\n",
       "    <tr>\n",
       "      <th>5</th>\n",
       "      <td>[20, 8, 0.1]</td>\n",
       "      <td>0.939762</td>\n",
       "      <td>0.480159</td>\n",
       "      <td>0.478261</td>\n",
       "      <td>0.901786</td>\n",
       "      <td>0.184211</td>\n",
       "      <td>0.147368</td>\n",
       "    </tr>\n",
       "    <tr>\n",
       "      <th>6</th>\n",
       "      <td>[50, 4, 0.01]</td>\n",
       "      <td>0.828676</td>\n",
       "      <td>0.165088</td>\n",
       "      <td>0.482213</td>\n",
       "      <td>0.809753</td>\n",
       "      <td>0.147287</td>\n",
       "      <td>0.400000</td>\n",
       "    </tr>\n",
       "    <tr>\n",
       "      <th>7</th>\n",
       "      <td>[50, 4, 0.1]</td>\n",
       "      <td>0.934952</td>\n",
       "      <td>0.408284</td>\n",
       "      <td>0.272727</td>\n",
       "      <td>0.914835</td>\n",
       "      <td>0.236364</td>\n",
       "      <td>0.136842</td>\n",
       "    </tr>\n",
       "    <tr>\n",
       "      <th>8</th>\n",
       "      <td>[50, 6, 0.01]</td>\n",
       "      <td>0.883646</td>\n",
       "      <td>0.222222</td>\n",
       "      <td>0.403162</td>\n",
       "      <td>0.866071</td>\n",
       "      <td>0.191358</td>\n",
       "      <td>0.326316</td>\n",
       "    </tr>\n",
       "    <tr>\n",
       "      <th>9</th>\n",
       "      <td>[50, 6, 0.1]</td>\n",
       "      <td>0.948465</td>\n",
       "      <td>0.607692</td>\n",
       "      <td>0.312253</td>\n",
       "      <td>0.923764</td>\n",
       "      <td>0.233333</td>\n",
       "      <td>0.073684</td>\n",
       "    </tr>\n",
       "    <tr>\n",
       "      <th>10</th>\n",
       "      <td>[50, 8, 0.01]</td>\n",
       "      <td>0.916628</td>\n",
       "      <td>0.328173</td>\n",
       "      <td>0.418972</td>\n",
       "      <td>0.883929</td>\n",
       "      <td>0.175439</td>\n",
       "      <td>0.210526</td>\n",
       "    </tr>\n",
       "    <tr>\n",
       "      <th>11</th>\n",
       "      <td>[50, 8, 0.1]</td>\n",
       "      <td>0.960834</td>\n",
       "      <td>0.797101</td>\n",
       "      <td>0.434783</td>\n",
       "      <td>0.920330</td>\n",
       "      <td>0.181818</td>\n",
       "      <td>0.063158</td>\n",
       "    </tr>\n",
       "  </tbody>\n",
       "</table>\n",
       "</div>"
      ],
      "text/plain": [
       "           params  train_accuracy  train_precision  train_recall   \n",
       "0   [20, 4, 0.01]        0.827073         0.157104      0.454545  \\\n",
       "1    [20, 4, 0.1]        0.876088         0.218750      0.442688   \n",
       "2   [20, 6, 0.01]        0.880440         0.215645      0.403162   \n",
       "3    [20, 6, 0.1]        0.923500         0.356890      0.399209   \n",
       "4   [20, 8, 0.01]        0.914567         0.317073      0.411067   \n",
       "5    [20, 8, 0.1]        0.939762         0.480159      0.478261   \n",
       "6   [50, 4, 0.01]        0.828676         0.165088      0.482213   \n",
       "7    [50, 4, 0.1]        0.934952         0.408284      0.272727   \n",
       "8   [50, 6, 0.01]        0.883646         0.222222      0.403162   \n",
       "9    [50, 6, 0.1]        0.948465         0.607692      0.312253   \n",
       "10  [50, 8, 0.01]        0.916628         0.328173      0.418972   \n",
       "11   [50, 8, 0.1]        0.960834         0.797101      0.434783   \n",
       "\n",
       "    test_accuracy  test_precision  test_recall  \n",
       "0        0.800824        0.137546     0.389474  \n",
       "1        0.857830        0.178161     0.326316  \n",
       "2        0.861264        0.183432     0.326316  \n",
       "3        0.898352        0.221053     0.221053  \n",
       "4        0.885989        0.196581     0.242105  \n",
       "5        0.901786        0.184211     0.147368  \n",
       "6        0.809753        0.147287     0.400000  \n",
       "7        0.914835        0.236364     0.136842  \n",
       "8        0.866071        0.191358     0.326316  \n",
       "9        0.923764        0.233333     0.073684  \n",
       "10       0.883929        0.175439     0.210526  \n",
       "11       0.920330        0.181818     0.063158  "
      ]
     },
     "execution_count": 50,
     "metadata": {},
     "output_type": "execute_result"
    }
   ],
   "source": [
    "df"
   ]
  },
  {
   "cell_type": "markdown",
   "id": "a7ce5d41",
   "metadata": {},
   "source": [
    "As can be seen from the table, within the range of the parameter space explored the model performance \n",
    "doesn't improve. So, the conclusion is that Logistic regression seems to be performing the best. We tried logistic regression classifier, Neural network, and XG Boost and logistic regression worked the best."
   ]
  }
 ],
 "metadata": {
  "kernelspec": {
   "display_name": "Python 3 (ipykernel)",
   "language": "python",
   "name": "python3"
  },
  "language_info": {
   "codemirror_mode": {
    "name": "ipython",
    "version": 3
   },
   "file_extension": ".py",
   "mimetype": "text/x-python",
   "name": "python",
   "nbconvert_exporter": "python",
   "pygments_lexer": "ipython3",
   "version": "3.9.16"
  }
 },
 "nbformat": 4,
 "nbformat_minor": 5
}
