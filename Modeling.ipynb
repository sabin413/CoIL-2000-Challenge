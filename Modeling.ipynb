{
 "cells": [
  {
   "cell_type": "markdown",
   "metadata": {},
   "source": [
    "# Predicting Potential Customers For an Insurance Policy - CoIL 2000 Challenge - Modeling"
   ]
  },
  {
   "cell_type": "code",
   "execution_count": 1,
   "metadata": {},
   "outputs": [],
   "source": [
    "# read the feature description txt. file and make a list of feature names\n",
    "features_list = [] \n",
    "fh = open('TicDataDescr.txt', 'r')\n",
    "for i, line in enumerate(fh):\n",
    "    if 32 < i < 51: # 204:\n",
    "        features_list.append(line.rstrip('\\n')[2:])\n",
    "    elif 51 <= i< 204:\n",
    "        features_list.append(line.rstrip('\\n')[3:])\n",
    "fh.close()\n",
    "\n",
    "while '' in features_list:\n",
    "    features_list.remove('')\n",
    "\n",
    "#print(features_list)\n",
    "#len(features_list)"
   ]
  },
  {
   "cell_type": "code",
   "execution_count": 40,
   "metadata": {},
   "outputs": [],
   "source": [
    "import pandas as pd\n",
    "df = pd.read_table('ticdata2000.txt', names=features_list) # assign the feature names from the list prepared before\n",
    "df_test = pd.read_table('ticeval2000.txt', names=features_list) # test data set"
   ]
  },
  {
   "cell_type": "code",
   "execution_count": 4,
   "metadata": {},
   "outputs": [
    {
     "name": "stdout",
     "output_type": "stream",
     "text": [
      "348 5.977327378907592\n"
     ]
    }
   ],
   "source": [
    "# Find the total number of positive class in the target - baseline\n",
    "ls = list(df['CARAVAN Number of mobile home policies 0 - 1'].values)\n",
    "num_policy_users = ls.count(1)\n",
    "num_nonusers = ls.count(0)\n",
    "users_perc = num_policy_users*100/(num_policy_users+num_nonusers)\n",
    "print(num_policy_users, users_perc)"
   ]
  },
  {
   "cell_type": "markdown",
   "metadata": {},
   "source": [
    "We have a baseline for our model here, 348 out of 5822 customers, which is about 6%, own the insurence policy. The data is unbalanced."
   ]
  },
  {
   "cell_type": "code",
   "execution_count": 44,
   "metadata": {},
   "outputs": [
    {
     "name": "stderr",
     "output_type": "stream",
     "text": [
      "C:\\Users\\sabin\\Anaconda3\\lib\\site-packages\\sklearn\\linear_model\\logistic.py:433: FutureWarning: Default solver will be changed to 'lbfgs' in 0.22. Specify a solver to silence this warning.\n",
      "  FutureWarning)\n"
     ]
    }
   ],
   "source": [
    "# Modeling - Logistic Regression\n",
    "X = df.drop('CARAVAN Number of mobile home policies 0 - 1',axis = 1) #feature\n",
    "y = df['CARAVAN Number of mobile home policies 0 - 1'] #target\n",
    "X_testset = df_test.drop('CARAVAN Number of mobile home policies 0 - 1',axis = 1)\n",
    "y_testset = df_test['CARAVAN Number of mobile home policies 0 - 1']\n",
    "from sklearn.model_selection import train_test_split\n",
    "from sklearn.linear_model import LogisticRegression\n",
    "X_train,X_test,y_train,y_test = train_test_split(X,y,test_size=0.25,random_state=0)\n",
    "logreg = LogisticRegression() # instantiate the model\n",
    "logreg.fit(X_train,y_train) # fit the data\n",
    "y_pred = logreg.predict(X_test) "
   ]
  },
  {
   "cell_type": "code",
   "execution_count": 45,
   "metadata": {},
   "outputs": [
    {
     "data": {
      "text/plain": [
       "array([[1356,    5],\n",
       "       [  93,    2]], dtype=int64)"
      ]
     },
     "execution_count": 45,
     "metadata": {},
     "output_type": "execute_result"
    }
   ],
   "source": [
    "# Model evaluation by confusion matrix\n",
    "from sklearn import metrics\n",
    "cnf_matrix = metrics.confusion_matrix(y_test, y_pred)\n",
    "cnf_matrix"
   ]
  },
  {
   "cell_type": "code",
   "execution_count": 46,
   "metadata": {},
   "outputs": [
    {
     "data": {
      "text/plain": [
       "Text(0.5,15,'Predicted label')"
      ]
     },
     "execution_count": 46,
     "metadata": {},
     "output_type": "execute_result"
    },
    {
     "data": {
      "image/png": "[encoded data removed]",
      "text/plain": [
       "<Figure size 432x288 with 2 Axes>"
      ]
     },
     "metadata": {},
     "output_type": "display_data"
    }
   ],
   "source": [
    "# Visualize the confusion matrix by using a heatmap\n",
    "%matplotlib inline\n",
    "import numpy as np\n",
    "import matplotlib.pyplot as plt\n",
    "import seaborn as sns\n",
    "\n",
    "sns.heatmap(pd.DataFrame(cnf_matrix), annot=True, cmap=\"YlGnBu\" ,fmt='g')\n",
    "plt.tight_layout()\n",
    "plt.title('Confusion matrix')\n",
    "plt.ylabel('Actual label')\n",
    "plt.xlabel('Predicted label')"
   ]
  },
  {
   "cell_type": "code",
   "execution_count": 47,
   "metadata": {},
   "outputs": [
    {
     "name": "stdout",
     "output_type": "stream",
     "text": [
      "Accuracy: 0.9326923076923077\n",
      "Precision: 0.2857142857142857\n",
      "Recall: 0.021052631578947368\n"
     ]
    }
   ],
   "source": [
    "# model evaluation by accuracy, precission and Recall\n",
    "print(\"Accuracy:\",metrics.accuracy_score(y_test, y_pred))\n",
    "print(\"Precision:\",metrics.precision_score(y_test, y_pred))\n",
    "print(\"Recall:\",metrics.recall_score(y_test, y_pred))"
   ]
  },
  {
   "cell_type": "markdown",
   "metadata": {},
   "source": [
    "The accuracy is good, precision is low, and the recall is really low. So, logistic regression doesn't turn out to be a strong model."
   ]
  },
  {
   "cell_type": "code",
   "execution_count": 48,
   "metadata": {},
   "outputs": [],
   "source": [
    "# accuracy = tp+tn/tp+tn + fp+fn (tn, fp, fn, tp)\n",
    "# precision = tp/tp+fp - if predicted to be positive, what is the prob that it is true?\n",
    "# recall = tp/tp+fn -  out of total positive cases, how many are predicted as positive? also known\n",
    "# as true positive rate. Look for true negative rate too.\n",
    "#a b// c, d sencitivity = d/c+d,  tp/tp+fn , specificity = a/a+b, tn/tn+fp\n",
    "#X.values\n",
    "#y.values"
   ]
  },
  {
   "cell_type": "markdown",
   "metadata": {},
   "source": [
    " Since it is an unbalanced data, we try Upsampling and Downsampling"
   ]
  },
  {
   "cell_type": "code",
   "execution_count": 49,
   "metadata": {},
   "outputs": [],
   "source": [
    "# Upsampling\n",
    "from imblearn.over_sampling import SMOTE"
   ]
  },
  {
   "cell_type": "code",
   "execution_count": 50,
   "metadata": {},
   "outputs": [
    {
     "name": "stdout",
     "output_type": "stream",
     "text": [
      "0    4113\n",
      "1     253\n",
      "Name: CARAVAN Number of mobile home policies 0 - 1, dtype: int64\n",
      "[4113 4113]\n"
     ]
    }
   ],
   "source": [
    "print(y_train.value_counts()) # count the numbers of 0 and 1 before sampling\n",
    "smt = SMOTE()\n",
    "X_train1, y_train1 = smt.fit_sample(X_train, y_train)\n",
    "y_train.value_counts()\n",
    "print(np.bincount(y_train1)) # count the numbers of 0 and 1 after sampling"
   ]
  },
  {
   "cell_type": "code",
   "execution_count": 58,
   "metadata": {},
   "outputs": [
    {
     "name": "stderr",
     "output_type": "stream",
     "text": [
      "C:\\Users\\sabin\\Anaconda3\\lib\\site-packages\\sklearn\\linear_model\\logistic.py:433: FutureWarning: Default solver will be changed to 'lbfgs' in 0.22. Specify a solver to silence this warning.\n",
      "  FutureWarning)\n"
     ]
    },
    {
     "name": "stdout",
     "output_type": "stream",
     "text": [
      "[[1287   74]\n",
      " [  77   18]]\n"
     ]
    },
    {
     "data": {
      "text/plain": [
       "0    1361\n",
       "1      95\n",
       "Name: CARAVAN Number of mobile home policies 0 - 1, dtype: int64"
      ]
     },
     "execution_count": 58,
     "metadata": {},
     "output_type": "execute_result"
    }
   ],
   "source": [
    "logreg.fit(X_train1,y_train1) # fit the data\n",
    "y_pred = logreg.predict(X_test) \n",
    "cnf_matrix = metrics.confusion_matrix(y_test, y_pred)\n",
    "print(cnf_matrix)\n",
    "y_test.value_counts()"
   ]
  },
  {
   "cell_type": "code",
   "execution_count": 76,
   "metadata": {},
   "outputs": [
    {
     "name": "stdout",
     "output_type": "stream",
     "text": [
      "Accuracy: 0.9114010989010989\n",
      "Precision: 0.19642857142857142\n",
      "Recall: 0.11578947368421053\n"
     ]
    }
   ],
   "source": [
    "print(\"Accuracy:\",metrics.accuracy_score(y_test, y_pred))\n",
    "print(\"Precision:\",metrics.precision_score(y_test, y_pred))\n",
    "print(\"Recall:\",metrics.recall_score(y_test, y_pred))"
   ]
  },
  {
   "cell_type": "markdown",
   "metadata": {},
   "source": [
    "Better than before."
   ]
  },
  {
   "cell_type": "code",
   "execution_count": 79,
   "metadata": {},
   "outputs": [],
   "source": [
    "#final_pred = logreg.predict(X_testset)\n",
    "#import collections\n",
    "#collections.Counter(final_pred)"
   ]
  },
  {
   "cell_type": "code",
   "execution_count": 80,
   "metadata": {},
   "outputs": [
    {
     "name": "stdout",
     "output_type": "stream",
     "text": [
      "[[469 892]\n",
      " [ 30  65]]\n"
     ]
    },
    {
     "name": "stderr",
     "output_type": "stream",
     "text": [
      "C:\\Users\\sabin\\Anaconda3\\lib\\site-packages\\sklearn\\linear_model\\logistic.py:433: FutureWarning: Default solver will be changed to 'lbfgs' in 0.22. Specify a solver to silence this warning.\n",
      "  FutureWarning)\n"
     ]
    }
   ],
   "source": [
    "# Now, do down sampling applying NearMiss\n",
    "from imblearn.under_sampling import NearMiss\n",
    "nr = NearMiss()\n",
    "X_train2, y_train2 = nr.fit_sample(X_train, y_train)\n",
    "np.bincount(y_train2)\n",
    "\n",
    "logreg.fit(X_train2, y_train2) # fit the data\n",
    "y_pred = logreg.predict(X_test) \n",
    "cnf_matrix = metrics.confusion_matrix(y_test, y_pred)\n",
    "print(cnf_matrix)"
   ]
  },
  {
   "cell_type": "code",
   "execution_count": 81,
   "metadata": {},
   "outputs": [
    {
     "name": "stdout",
     "output_type": "stream",
     "text": [
      "Accuracy: 0.36675824175824173\n",
      "Precision: 0.06792058516196448\n",
      "Recall: 0.6842105263157895\n"
     ]
    }
   ],
   "source": [
    "# model evaluation by accuracy, precission and Recall\n",
    "print(\"Accuracy:\",metrics.accuracy_score(y_test, y_pred))\n",
    "print(\"Precision:\",metrics.precision_score(y_test, y_pred))\n",
    "print(\"Recall:\",metrics.recall_score(y_test, y_pred))"
   ]
  },
  {
   "cell_type": "markdown",
   "metadata": {},
   "source": [
    "Better than before in recall but worse in accuracy and precision"
   ]
  },
  {
   "cell_type": "code",
   "execution_count": 82,
   "metadata": {},
   "outputs": [],
   "source": [
    "#final_pred = logreg.predict(X_testset)\n",
    "#import collections\n",
    "#collections.Counter(final_pred)"
   ]
  },
  {
   "cell_type": "code",
   "execution_count": 33,
   "metadata": {},
   "outputs": [],
   "source": [
    "## Neural network in Keras\n",
    "import numpy as np\n",
    "from keras.layers import Dense\n",
    "from keras.models import Sequential\n",
    "n_cols = df.shape[1]-1\n",
    "from keras.wrappers.scikit_learn import KerasClassifier\n",
    "from sklearn.model_selection import GridSearchCV\n",
    "from time import time\n",
    "# create baseline model\n",
    "def create_baseline(optimizer='rmsprop', init = 'uniform'):\n",
    "    model = Sequential()\n",
    "    model.add(Dense(85, activation='relu', input_dim=n_cols))\n",
    "    model.add(Dense(85, activation='relu')) # An \"activation\" is just a non-linear function applied to the output\n",
    "    model.add(Dense(40, activation='relu'))\n",
    "    model.add(Dense(1, activation='sigmoid')) # This special \"softmax\" a\n",
    "    model.compile(loss='binary_crossentropy', optimizer=optimizer, metrics=['accuracy']) \n",
    "    return model\n"
   ]
  },
  {
   "cell_type": "code",
   "execution_count": 38,
   "metadata": {},
   "outputs": [
    {
     "name": "stderr",
     "output_type": "stream",
     "text": [
      "C:\\Users\\sabin\\Anaconda3\\lib\\site-packages\\sklearn\\model_selection\\_split.py:2053: FutureWarning: You should specify a value for 'cv' instead of relying on the default value. The default value will change from 3 to 5 in version 0.22.\n",
      "  warnings.warn(CV_WARNING, FutureWarning)\n"
     ]
    },
    {
     "name": "stdout",
     "output_type": "stream",
     "text": [
      "Best: 0.942052 using {'batch_size': 10, 'epochs': 60, 'init': 'glorot_uniform', 'optimizer': 'rmsprop'}\n",
      "total time: 960.1043825149536\n"
     ]
    }
   ],
   "source": [
    "# Hyperparameter tuning by GridsearchCV\n",
    "start = time()\n",
    "model = KerasClassifier(build_fn=create_baseline, verbose = 0)\n",
    "\n",
    "inits = ['glorot_uniform', 'normal']\n",
    "optimizers = ['rmsprop', 'adam']\n",
    "epochs = np.array([60])\n",
    "batches = np.array([10])\n",
    "\n",
    "param_dict = dict(optimizer=optimizers, epochs=epochs, batch_size=batches, init=inits)\n",
    "grid = GridSearchCV(estimator=model, param_grid=param_dict)\n",
    "grid_result = grid.fit(X_train, y_train)\n",
    "print(\"Best: %f using %s\" % (grid_result.best_score_, grid_result.best_params_))\n",
    "#for params, mean_score, scores in grid_result.grid_scores_:\n",
    "#    print(\"%f (%f) with: %r\" % (scores.mean(), scores.std(), params))\n",
    "print(\"total time:\",time()-start)\n",
    "best_epochs = grid_result.best_params_['epochs']\n",
    "best_batch_size = grid_result.best_params_['batch_size']\n",
    "best_init = grid_result.best_params_['init']\n",
    "best_optimizer = grid_result.best_params_['optimizer']"
   ]
  },
  {
   "cell_type": "markdown",
   "metadata": {},
   "source": [
    "GridsearchCV is very slow, so we tune the hyperparameters manually."
   ]
  },
  {
   "cell_type": "code",
   "execution_count": null,
   "metadata": {},
   "outputs": [
    {
     "name": "stdout",
     "output_type": "stream",
     "text": [
      "Epoch 1/60\n",
      "4366/4366 [==============================] - 7s 2ms/step - loss: 0.2244 - acc: 0.9421\n",
      "Epoch 2/60\n",
      "4366/4366 [==============================] - 2s 566us/step - loss: 0.2080 - acc: 0.9421\n",
      "Epoch 3/60\n",
      "4366/4366 [==============================] - 2s 521us/step - loss: 0.2017 - acc: 0.9421\n",
      "Epoch 4/60\n",
      "4366/4366 [==============================] - 2s 549us/step - loss: 0.1979 - acc: 0.9421\n",
      "Epoch 5/60\n",
      "4366/4366 [==============================] - 3s 711us/step - loss: 0.1943 - acc: 0.9421\n",
      "Epoch 6/60\n",
      "4366/4366 [==============================] - 5s 1ms/step - loss: 0.1944 - acc: 0.9421\n",
      "Epoch 7/60\n",
      "4366/4366 [==============================] - 5s 1ms/step - loss: 0.1907 - acc: 0.9425\n",
      "Epoch 8/60\n",
      "4366/4366 [==============================] - 4s 1ms/step - loss: 0.1873 - acc: 0.9418\n",
      "Epoch 9/60\n",
      "4366/4366 [==============================] - 5s 1ms/step - loss: 0.1851 - acc: 0.9432\n",
      "Epoch 10/60\n",
      "4366/4366 [==============================] - 4s 1ms/step - loss: 0.1802 - acc: 0.9434\n",
      "Epoch 11/60\n",
      "4366/4366 [==============================] - 4s 944us/step - loss: 0.1772 - acc: 0.9427\n",
      "Epoch 12/60\n",
      "4366/4366 [==============================] - 2s 554us/step - loss: 0.1734 - acc: 0.9439\n",
      "Epoch 13/60\n",
      "4366/4366 [==============================] - 5s 1ms/step - loss: 0.1708 - acc: 0.9437\n",
      "Epoch 14/60\n",
      "4366/4366 [==============================] - 5s 1ms/step - loss: 0.1633 - acc: 0.9459\n",
      "Epoch 15/60\n",
      "4366/4366 [==============================] - 5s 1ms/step - loss: 0.1604 - acc: 0.9462\n",
      "Epoch 16/60\n",
      "4366/4366 [==============================] - 4s 1ms/step - loss: 0.1551 - acc: 0.9462\n",
      "Epoch 17/60\n",
      "4366/4366 [==============================] - 5s 1ms/step - loss: 0.1496 - acc: 0.9482\n",
      "Epoch 18/60\n",
      "4366/4366 [==============================] - 4s 1ms/step - loss: 0.1456 - acc: 0.9478\n",
      "Epoch 19/60\n",
      "4366/4366 [==============================] - 3s 801us/step - loss: 0.1393 - acc: 0.9517\n",
      "Epoch 20/60\n",
      "4366/4366 [==============================] - 2s 544us/step - loss: 0.1404 - acc: 0.9517\n",
      "Epoch 21/60\n",
      "4366/4366 [==============================] - 4s 917us/step - loss: 0.1362 - acc: 0.9519\n",
      "Epoch 22/60\n",
      "4366/4366 [==============================] - 4s 989us/step - loss: 0.1280 - acc: 0.9542\n",
      "Epoch 23/60\n",
      "4366/4366 [==============================] - 4s 998us/step - loss: 0.1301 - acc: 0.9544\n",
      "Epoch 24/60\n",
      "4366/4366 [==============================] - 4s 1ms/step - loss: 0.1246 - acc: 0.9565\n",
      "Epoch 25/60\n",
      "4366/4366 [==============================] - 4s 1ms/step - loss: 0.1219 - acc: 0.9558\n",
      "Epoch 26/60\n",
      "4366/4366 [==============================] - 5s 1ms/step - loss: 0.1172 - acc: 0.9572\n",
      "Epoch 27/60\n",
      "4366/4366 [==============================] - 4s 970us/step - loss: 0.1185 - acc: 0.9576\n",
      "Epoch 28/60\n",
      "4366/4366 [==============================] - 5s 1ms/step - loss: 0.1123 - acc: 0.9581\n",
      "Epoch 29/60\n",
      "4366/4366 [==============================] - 4s 837us/step - loss: 0.1089 - acc: 0.9583\n",
      "Epoch 30/60\n",
      "4366/4366 [==============================] - 4s 917us/step - loss: 0.1031 - acc: 0.9615\n",
      "Epoch 31/60\n",
      "4366/4366 [==============================] - 4s 957us/step - loss: 0.1092 - acc: 0.9608\n",
      "Epoch 32/60\n",
      "4366/4366 [==============================] - 3s 732us/step - loss: 0.1021 - acc: 0.9592\n",
      "Epoch 33/60\n",
      "4366/4366 [==============================] - 4s 956us/step - loss: 0.0981 - acc: 0.9617\n",
      "Epoch 34/60\n",
      "4366/4366 [==============================] - 4s 1ms/step - loss: 0.0965 - acc: 0.9631\n",
      "Epoch 35/60\n",
      "4366/4366 [==============================] - 5s 1ms/step - loss: 0.1008 - acc: 0.9629\n",
      "Epoch 36/60\n",
      "4366/4366 [==============================] - 4s 956us/step - loss: 0.0935 - acc: 0.9620\n",
      "Epoch 37/60\n",
      "4366/4366 [==============================] - 4s 963us/step - loss: 0.0903 - acc: 0.9654\n",
      "Epoch 38/60\n",
      "4366/4366 [==============================] - 5s 1ms/step - loss: 0.0854 - acc: 0.9650\n",
      "Epoch 39/60\n",
      "4366/4366 [==============================] - 5s 1ms/step - loss: 0.0851 - acc: 0.9661\n",
      "Epoch 40/60\n",
      "4366/4366 [==============================] - 5s 1ms/step - loss: 0.0827 - acc: 0.9670\n",
      "Epoch 41/60\n",
      "4366/4366 [==============================] - 5s 1ms/step - loss: 0.0857 - acc: 0.9663\n",
      "Epoch 42/60\n",
      "4366/4366 [==============================] - 5s 1ms/step - loss: 0.0872 - acc: 0.9643\n",
      "Epoch 43/60\n",
      "4366/4366 [==============================] - 4s 969us/step - loss: 0.0883 - acc: 0.9652\n",
      "Epoch 44/60\n",
      "4366/4366 [==============================] - 4s 970us/step - loss: 0.0804 - acc: 0.9709\n",
      "Epoch 45/60\n",
      "4366/4366 [==============================] - 3s 679us/step - loss: 0.0783 - acc: 0.9675\n",
      "Epoch 46/60\n",
      "4366/4366 [==============================] - 4s 813us/step - loss: 0.0792 - acc: 0.9679\n",
      "Epoch 47/60\n",
      "4366/4366 [==============================] - 4s 837us/step - loss: 0.0761 - acc: 0.9689\n",
      "Epoch 48/60\n",
      "4366/4366 [==============================] - 4s 834us/step - loss: 0.0719 - acc: 0.9711\n",
      "Epoch 49/60\n",
      "4366/4366 [==============================] - 3s 704us/step - loss: 0.0760 - acc: 0.9675\n",
      "Epoch 50/60\n",
      "4366/4366 [==============================] - 2s 517us/step - loss: 0.0719 - acc: 0.9693\n",
      "Epoch 51/60\n",
      "4366/4366 [==============================] - 4s 855us/step - loss: 0.0679 - acc: 0.9693\n",
      "Epoch 52/60\n",
      "4366/4366 [==============================] - 4s 839us/step - loss: 0.0651 - acc: 0.9725\n",
      "Epoch 53/60\n",
      "2860/4366 [==================>...........] - ETA: 0s - loss: 0.0779 - acc: 0.9682- ETA: 2s - loss: 0.0"
     ]
    }
   ],
   "source": [
    "# do it manually\n",
    "best_epochs = 60\n",
    "best_batch_size = 10\n",
    "best_init = 'glorot_uniform'\n",
    "best_optimizer = 'adam'\n",
    "# Now create a classifier with manually chosen parameters\n",
    "classifier_pred = KerasClassifier(build_fn=create_baseline, optimizer=best_optimizer, init=best_init, epochs=best_epochs, batch_size=best_batch_size, verbose=1)\n",
    "classifier_pred.fit(X_train, y_train)"
   ]
  },
  {
   "cell_type": "code",
   "execution_count": null,
   "metadata": {},
   "outputs": [],
   "source": [
    "y_pred=classifier_pred.predict(X_test)\n",
    "## calculate model performance\n",
    "cm = metrics.confusion_matrix(y_test, y_pred)\n",
    "print(cm)\n",
    "print(\"Accuracy:\",metrics.accuracy_score(y_test, y_pred))\n",
    "print(\"Precision:\",metrics.precision_score(y_test, y_pred))\n",
    "print(\"Recall:\",metrics.recall_score(y_test, y_pred))"
   ]
  },
  {
   "cell_type": "markdown",
   "metadata": {},
   "source": [
    "Logistic regression with upsampling is the best model so far."
   ]
  },
  {
   "cell_type": "code",
   "execution_count": null,
   "metadata": {},
   "outputs": [],
   "source": []
  }
 ],
 "metadata": {
  "kernelspec": {
   "display_name": "Python 3",
   "language": "python",
   "name": "python3"
  },
  "language_info": {
   "codemirror_mode": {
    "name": "ipython",
    "version": 3
   },
   "file_extension": ".py",
   "mimetype": "text/x-python",
   "name": "python",
   "nbconvert_exporter": "python",
   "pygments_lexer": "ipython3",
   "version": "3.6.5"
  }
 },
 "nbformat": 4,
 "nbformat_minor": 2
}
